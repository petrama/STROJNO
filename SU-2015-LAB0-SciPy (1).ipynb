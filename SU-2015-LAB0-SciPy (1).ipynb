{
 "cells": [
  {
   "cell_type": "markdown",
   "metadata": {},
   "source": [
    "Sveučilište u Zagrebu<br>\n",
    "Fakultet elektrotehnike i računarstva\n",
    "\n",
    "#Strojno učenje\n",
    "\n",
    "<a href=\"http://www.fer.unizg.hr/predmet/su\">http://www.fer.unizg.hr/predmet/su</a>\n",
    "\n",
    "Ak. god. 2015./2016.\n",
    "\n",
    "#Laboratorijska vježba 0: Uvod u SciPy\n",
    "\n",
    "(c) 2015 Domagoj Alagić\n",
    "\n",
    "<i>Verzija: 0.3</i>"
   ]
  },
  {
   "cell_type": "code",
   "execution_count": 2,
   "metadata": {
    "collapsed": false
   },
   "outputs": [
    {
     "name": "stdout",
     "output_type": "stream",
     "text": [
      "Populating the interactive namespace from numpy and matplotlib\n"
     ]
    }
   ],
   "source": [
    "import numpy as np\n",
    "import scipy as sp\n",
    "import matplotlib.pyplot as plt\n",
    "%pylab inline"
   ]
  },
  {
   "cell_type": "markdown",
   "metadata": {},
   "source": [
    "## 1."
   ]
  },
  {
   "cell_type": "markdown",
   "metadata": {},
   "source": [
    "__(a)__ Kreirajte dvije liste: $a = [2, 4, 5, 6, 8, 13]$ i $b = [1, 3, 10, 13, 15]$."
   ]
  },
  {
   "cell_type": "code",
   "execution_count": 3,
   "metadata": {
    "collapsed": false
   },
   "outputs": [],
   "source": [
    "a=[2,4,5,6,8,13];b=[1,3,10,13,15]"
   ]
  },
  {
   "cell_type": "markdown",
   "metadata": {},
   "source": [
    "__(b)__ Napišite kôd koji konkatenira liste $a$ i $b$ u listu $c$:"
   ]
  },
  {
   "cell_type": "code",
   "execution_count": 4,
   "metadata": {
    "collapsed": false
   },
   "outputs": [],
   "source": [
    "c=a+b;"
   ]
  },
  {
   "cell_type": "markdown",
   "metadata": {},
   "source": [
    "__(c)__ Sortirajte listu $c$:"
   ]
  },
  {
   "cell_type": "code",
   "execution_count": 5,
   "metadata": {
    "collapsed": false
   },
   "outputs": [
    {
     "data": {
      "text/plain": [
       "array([ 1,  2,  3,  4,  5,  6,  8, 10, 13, 13, 15])"
      ]
     },
     "execution_count": 5,
     "metadata": {},
     "output_type": "execute_result"
    }
   ],
   "source": [
    "c=sort(c);c"
   ]
  },
  {
   "cell_type": "markdown",
   "metadata": {},
   "source": [
    "__(d)__ Izbacite duplikate iz liste c:"
   ]
  },
  {
   "cell_type": "code",
   "execution_count": 6,
   "metadata": {
    "collapsed": false
   },
   "outputs": [
    {
     "data": {
      "text/plain": [
       "[1, 2, 3, 4, 5, 6, 8, 10, 13, 15]"
      ]
     },
     "execution_count": 6,
     "metadata": {},
     "output_type": "execute_result"
    }
   ],
   "source": [
    "c=list(set(c));c"
   ]
  },
  {
   "cell_type": "markdown",
   "metadata": {},
   "source": [
    "__(e)__ Dohvatite i ispišite (pazite na indeksiranje od 0):\n",
    "* treći element,\n",
    "* zadnja dva elementa,\n",
    "* sve elemente između trećeg i šestog (uključujući treći element, isključujući šesti)."
   ]
  },
  {
   "cell_type": "code",
   "execution_count": 7,
   "metadata": {
    "collapsed": false
   },
   "outputs": [
    {
     "name": "stdout",
     "output_type": "stream",
     "text": [
      "3\n",
      "[13, 15]\n",
      "[3, 4, 5]\n"
     ]
    }
   ],
   "source": [
    "print(c[2]);print(c[-2:]);print(c[2:5])"
   ]
  },
  {
   "cell_type": "markdown",
   "metadata": {},
   "source": [
    "__(f)__ Generirajte interval brojeva `ran` s elementima iz $[2, 20]$."
   ]
  },
  {
   "cell_type": "code",
   "execution_count": 8,
   "metadata": {
    "collapsed": false
   },
   "outputs": [
    {
     "data": {
      "text/plain": [
       "[2, 3, 4, 5, 6, 7, 8, 9, 10, 11, 12, 13, 14, 15, 16, 17, 18, 19, 20]"
      ]
     },
     "execution_count": 8,
     "metadata": {},
     "output_type": "execute_result"
    }
   ],
   "source": [
    "ran=range(2,21);list(ran)"
   ]
  },
  {
   "cell_type": "markdown",
   "metadata": {},
   "source": [
    "__(g)__ Ispišite sve generirane brojeve iz intervala skupa s njihovim indeksima u listi:"
   ]
  },
  {
   "cell_type": "code",
   "execution_count": 9,
   "metadata": {
    "collapsed": false
   },
   "outputs": [
    {
     "name": "stdout",
     "output_type": "stream",
     "text": [
      "0 2\n",
      "1 3\n",
      "2 4\n",
      "3 5\n",
      "4 6\n",
      "5 7\n",
      "6 8\n",
      "7 9\n",
      "8 10\n",
      "9 11\n",
      "10 12\n",
      "11 13\n",
      "12 14\n",
      "13 15\n",
      "14 16\n",
      "15 17\n",
      "16 18\n",
      "17 19\n",
      "18 20\n"
     ]
    }
   ],
   "source": [
    "for i in range(0,len(ran)):\n",
    "    print(i,ran[i])"
   ]
  },
  {
   "cell_type": "markdown",
   "metadata": {},
   "source": [
    "__(h)__ Korištenjem sažetog zapisa liste (engl. _list comprehension_) transformirajte listu `ran` tako da sve elemente zamijenite njihovim prirodnim logaritmom."
   ]
  },
  {
   "cell_type": "code",
   "execution_count": 10,
   "metadata": {
    "collapsed": false
   },
   "outputs": [
    {
     "data": {
      "text/plain": [
       "[0.6931471805599453,\n",
       " 1.0986122886681098,\n",
       " 1.3862943611198906,\n",
       " 1.6094379124341003,\n",
       " 1.791759469228055,\n",
       " 1.9459101490553132,\n",
       " 2.0794415416798357,\n",
       " 2.1972245773362196,\n",
       " 2.302585092994046,\n",
       " 2.3978952727983707,\n",
       " 2.4849066497880004,\n",
       " 2.5649493574615367,\n",
       " 2.6390573296152584,\n",
       " 2.70805020110221,\n",
       " 2.772588722239781,\n",
       " 2.833213344056216,\n",
       " 2.8903717578961645,\n",
       " 2.9444389791664403,\n",
       " 2.995732273553991]"
      ]
     },
     "execution_count": 10,
     "metadata": {},
     "output_type": "execute_result"
    }
   ],
   "source": [
    "ran=[math.log(r) for r in ran];ran"
   ]
  },
  {
   "cell_type": "markdown",
   "metadata": {},
   "source": [
    "## 2."
   ]
  },
  {
   "cell_type": "markdown",
   "metadata": {},
   "source": [
    "__(a)__ Napišite funkciju `make_3sg_form(word)` koja vraća glagol u trećem licu jednine za dani glagol u infinitivu, npr. _try_ -> _tries_. Slijedite sljedeća pravila:\n",
    "* Ako glagol završava na _y_, odbaci _y_ i dodaj _ies_.\n",
    "* Ako glagol završava na _o_, _ch_, _s_, _sh_, _x_ ili _z_, dodaj _es_.\n",
    "* Inače samo dodaj _s_.\n",
    "\n",
    "NB: Znakovni niz je zapravo polje znakova tako da vrijede \"trikovi\" za indeksiranje polja.\n",
    "\n",
    "__(b)__ Isprobajte implementiranu funkciju za _fix_, _brush_, _cry_, _play_ i _echo_. Primjetite da je ovo složen problem i da tri jednostavna pravila neće uspjeti pokriti sve slučajeve."
   ]
  },
  {
   "cell_type": "code",
   "execution_count": 11,
   "metadata": {
    "collapsed": false
   },
   "outputs": [
    {
     "name": "stdout",
     "output_type": "stream",
     "text": [
      "fixes\n",
      "brushes\n",
      "cries\n",
      "plaies\n",
      "echoes\n"
     ]
    }
   ],
   "source": [
    "po=['fix','brush','cry','play','echo']\n",
    "def make_3sg_form(word):\n",
    "    s=word[-1];\n",
    "    d=word[-2:]\n",
    "    if s=='y':\n",
    "        word=word[:-1]+'ies'\n",
    "    elif s=='o' or s=='s' or s=='x' or s=='z' or d=='ch' or d=='sh':\n",
    "         word=word+'es'\n",
    "    else:\n",
    "        word=word+'s';\n",
    "    return word  \n",
    "for p in po: print(make_3sg_form(p))\n"
   ]
  },
  {
   "cell_type": "markdown",
   "metadata": {},
   "source": [
    "## 3."
   ]
  },
  {
   "cell_type": "markdown",
   "metadata": {},
   "source": [
    "Napišite funkciju `filterShortWords (word_list, min_length)` koja prima listu riječi i minimalnu dopuštenu duljinu riječi te vraća __novu__ listu riječi koja sadrži samo one riječi čija je duljina veća od minimalne dopuštene. Obavezno provjerite da je dana duljina riječi pozitivan broj veći od 1. Ako nije, bacite iznimku. U slučaju da korisnik nije zadao duljinu, funkcija radi jednako kao da je korisnik zadao duljinu od dva znaka (koristite podrazumijevane argumente, engl. _default arguments_). \n",
    "\n",
    "Zadatak riješite na dva načina: \n",
    "\n",
    "* __(a)__ korištenjem `for` petlji,\n",
    "* __(b)__ korištenjem sažetog zapisa liste,\n",
    "* __(c)__ korištenjem metode `filter` u kombinaciji s lambda-izrazom. \n",
    "\n",
    "__(d)__ Pokažite na primjeru da su izlazi implementiranih funkcija jednaki.\n",
    "\n",
    "NB: Podrazumijevani elementi (ili grupa istih) uvijek dolaze na kraju liste argumenata u definiciji funkcije."
   ]
  },
  {
   "cell_type": "code",
   "execution_count": 38,
   "metadata": {
    "collapsed": false
   },
   "outputs": [
    {
     "name": "stdout",
     "output_type": "stream",
     "text": [
      "['tri', 'ceti', 'peeet']\n",
      "['dv', 'tri', 'ceti', 'peeet']\n"
     ]
    }
   ],
   "source": [
    "lista=['dv','tri','ceti','peeet'];\n",
    "def filterShortWords(word_list,min_length=2):\n",
    "    if min_length < 2:\n",
    "        raise ValueError(\"duljina rijeci mora biti barem 2\")\n",
    "    nova=[]\n",
    "    for word in word_list:\n",
    "        if len(word)>=min_length:\n",
    "            nova.append(word)\n",
    "    return nova;\n",
    "print(filterShortWords(lista,3))\n",
    "print(filterShortWords(lista))"
   ]
  },
  {
   "cell_type": "code",
   "execution_count": 39,
   "metadata": {
    "collapsed": false
   },
   "outputs": [
    {
     "name": "stdout",
     "output_type": "stream",
     "text": [
      "['ceti', 'peeet']\n",
      "['dv', 'tri', 'ceti', 'peeet']\n"
     ]
    }
   ],
   "source": [
    "def filterShortWords(word_list,min_length=2):\n",
    "    if min_length < 2:\n",
    "        raise ValueError(\"duljina rijeci mora biti barem 2\")\n",
    "    return [e for e in word_list if len(e)>=min_length]\n",
    "print(filterShortWords(lista,4))\n",
    "print(filterShortWords(lista))"
   ]
  },
  {
   "cell_type": "code",
   "execution_count": 66,
   "metadata": {
    "collapsed": false
   },
   "outputs": [
    {
     "name": "stdout",
     "output_type": "stream",
     "text": [
      "['ceti', 'peeet']\n",
      "['dv', 'tri', 'ceti', 'peeet']\n"
     ]
    }
   ],
   "source": [
    "def filterShortWords(word_list,min_length=2):\n",
    "    if min_length < 2:\n",
    "        raise ValueError(\"duljina rijeci mora biti barem 2\")\n",
    "    return list(filter(lambda x:(len(x)>=min_length),word_list))\n",
    "print(filterShortWords(lista,4))\n",
    "print(filterShortWords(lista))"
   ]
  },
  {
   "cell_type": "markdown",
   "metadata": {},
   "source": [
    "## 4."
   ]
  },
  {
   "cell_type": "markdown",
   "metadata": {},
   "source": [
    "Dana vam je mapa koja za ključeve sadrži nazive programskih jezika, a za vrijednosti liste programskih paradigmi koje određeni jezik pokriva."
   ]
  },
  {
   "cell_type": "code",
   "execution_count": 15,
   "metadata": {
    "collapsed": false
   },
   "outputs": [],
   "source": [
    "langs_paradigms = {\n",
    "                  \"Java\" : [\"object-oriented\", \"imperative\"],\n",
    "                  \"Haskell\" : [\"functional\"],\n",
    "                  \"Lisp\" : [\"functional\", \"procedural\"]\n",
    "                  }"
   ]
  },
  {
   "cell_type": "markdown",
   "metadata": {},
   "source": [
    "Napišite razred `ProgLanguageRepository` uzimajući u obzir sljedeće stvari:\n",
    "* Konstruktor ovog razreda prima početnu mapu koja sadrži programske jezike i njihove paradigme.\n",
    "* Dana mapa sprema se kao član klase imena `data`.\n",
    "* Razred sadrži metodu `count` koja vraća broj programskih jezika dostupnih u repozitoriju.\n",
    "* Razred sadrži metodu `get_langs_paradigms (lang)` koja za dano ime programskog jezika vraća listu njegovih paradigmi ili vraća `None` ako taj jezik ne postoji u repozitoriju.\n",
    "* Razred sadrži metodu `add_lang_paradigm (lang, paradigm)` koja danom programskom jeziku dodaje paradigmu (ako je već nema).\n",
    "* Razred sadrži metodu `remove_lang_paradigm (lang, paradigm)` koja danom programskom jeziku miče danu paradigmu (ako je ima).\n",
    "* Razred ima nadjačanu metodu za znakovnu reprezentaciju koja samo ispisuje znakovnu reprezentaciju člana `data`.\n",
    "\n",
    "Pokažite na par primjera da vaša implementacija radi."
   ]
  },
  {
   "cell_type": "code",
   "execution_count": 68,
   "metadata": {
    "collapsed": false
   },
   "outputs": [
    {
     "name": "stdout",
     "output_type": "stream",
     "text": [
      "['object-oriented', 'nesto', 'nesto', 'nesto', 'nesto']\n",
      "['object-oriented', 'nesto', 'nesto', 'nesto', 'nesto']\n",
      "{'Haskell': ['functional'], 'Java': ['object-oriented', 'nesto', 'nesto', 'nesto', 'nesto'], 'Lisp': ['functional', 'procedural']}\n",
      "3\n"
     ]
    }
   ],
   "source": [
    "class ProgLanguageRepository:\n",
    "    def __init__(self,data):\n",
    "        self.data=data\n",
    "    def __str__(self):\n",
    "        return str(self.data)\n",
    "    def count(self):\n",
    "        return len(self.data)\n",
    "    def get_langs_paradigms(self,lang):\n",
    "        return self.data.get(lang,None)\n",
    "    def add_lang_paradigm(self,lang,paradigm):\n",
    "        t=list(self.data.get(lang,[]))\n",
    "        t.append(paradigm)\n",
    "        self.data[lang]=t\n",
    "    def remove_lang_paradigm(self,lang,paradigm):\n",
    "        t=self.get_langs_paradigms(lang)\n",
    "        if t==None:\n",
    "            return\n",
    "        if(paradigm in t):\n",
    "            t.remove(paradigm)\n",
    "        \n",
    "\n",
    "novi=ProgLanguageRepository(langs_paradigms)\n",
    "novi.add_lang_paradigm(\"Java\",\"nesto\")\n",
    "novi.add_lang_paradigm(\"Java\",\"nesto\")\n",
    "print(novi.get_langs_paradigms('Java'))\n",
    "novi.remove_lang_paradigm(\"Java\",\"imperative\")\n",
    "print(novi.get_langs_paradigms('Java'))\n",
    "print(novi)\n",
    "print(novi.count())\n"
   ]
  },
  {
   "cell_type": "markdown",
   "metadata": {},
   "source": [
    "## 5."
   ]
  },
  {
   "cell_type": "markdown",
   "metadata": {},
   "source": [
    "__(a)__ Napišite kôd koji stvara sljedeća tri vektor-stupca, jedan vektor-redak i kvadratnu matricu ranga 2 (koristite `numpy` za cijeli zadatak):\n",
    "\n",
    "$ x_{1} = \\begin{pmatrix}\n",
    "1\\\\\n",
    "2\\\\\n",
    "\\end{pmatrix}$,\n",
    "$ x_{2} = \\begin{pmatrix}\n",
    "3\\\\\n",
    "5\\\\\n",
    "\\end{pmatrix}$,\n",
    "$ x_{3} = \\begin{pmatrix}\n",
    "-3\\\\\n",
    "4\\\\\n",
    "\\end{pmatrix}$,\n",
    "$ x_{4} = \\begin{pmatrix}\n",
    "4\\\\\n",
    "0\\\\\n",
    "\\end{pmatrix}^T$,\n",
    "$ A = \\begin{pmatrix}\n",
    "5 & 3 \\\\\n",
    "10 & 6 \\\\\n",
    "\\end{pmatrix}\n",
    "$\n",
    "\n",
    "__(b)__ Zatim napišite naredbe koje stvaraju dvije nove matrice: matricu $C$ dimenzija $2\\times3$ koja se dobije tako da se vektor-stupci poredaju horizontalno jedan kraj drugog te matricu $D$ dimenzija $3\\times2$ koja se dobije tako da se matrica $A$ postavi ispod danog vektor-retka."
   ]
  },
  {
   "cell_type": "code",
   "execution_count": 70,
   "metadata": {
    "collapsed": false
   },
   "outputs": [
    {
     "name": "stdout",
     "output_type": "stream",
     "text": [
      "[[1]\n",
      " [2]]\n",
      "[3 5]\n",
      "[-3  4]\n",
      "[4 0]\n",
      "[[ 5  3]\n",
      " [10  6]]\n",
      "[[ 4  0]\n",
      " [ 5  3]\n",
      " [10  6]]\n"
     ]
    }
   ],
   "source": [
    "import numpy as np\n",
    "x1=np.array([[1],[2]])\n",
    "x2=np.array([3,5])\n",
    "x3=np.array([-3,4])\n",
    "x4=np.array([4,0])\n",
    "A=np.array([[5,3],[10,6]]);A\n",
    "C=np.column_stack((x1,x2,x3));C\n",
    "D=np.vstack((x4,A));D\n",
    "print(x1)\n",
    "print(x2)\n",
    "print(x3)\n",
    "print(x4)\n",
    "print(A)\n",
    "print(D)"
   ]
  },
  {
   "cell_type": "markdown",
   "metadata": {},
   "source": [
    "__(c)__ Izračunajte umnožak matrica $C$ i $D$ te ga pohranite u matricu $U$."
   ]
  },
  {
   "cell_type": "code",
   "execution_count": 50,
   "metadata": {
    "collapsed": false
   },
   "outputs": [
    {
     "data": {
      "text/plain": [
       "array([[-11,  -9],\n",
       "       [ 73,  39]])"
      ]
     },
     "execution_count": 50,
     "metadata": {},
     "output_type": "execute_result"
    }
   ],
   "source": [
    "U=np.dot(C,D);U"
   ]
  },
  {
   "cell_type": "markdown",
   "metadata": {},
   "source": [
    "__(d)__ Nadalje, napišite kôd koji izračunava inverz matrice $U$ (spremiti u matricu $I$) kojeg zatim transponira (i sprema u matricu $R$)."
   ]
  },
  {
   "cell_type": "code",
   "execution_count": 19,
   "metadata": {
    "collapsed": false
   },
   "outputs": [],
   "source": [
    "from scipy import linalg\n",
    "I=linalg.inv(U);\n",
    "R=I.transpose();"
   ]
  },
  {
   "cell_type": "markdown",
   "metadata": {},
   "source": [
    "__(e)__ Izračunajte sumu svih elemenata u matrici $D$ (spremite u varijablu `D_total`), ali i sume po zasebnim dimenzijama (`D_x`, `D_y`)."
   ]
  },
  {
   "cell_type": "code",
   "execution_count": 51,
   "metadata": {
    "collapsed": false
   },
   "outputs": [
    {
     "name": "stdout",
     "output_type": "stream",
     "text": [
      "[[ 4  0]\n",
      " [ 5  3]\n",
      " [10  6]]\n",
      "[19  9]\n",
      "[ 4  8 16]\n"
     ]
    }
   ],
   "source": [
    "print(D);\n",
    "D_total=np.sum(D);D_total\n",
    "D_vertical=np.sum(D,axis=0)\n",
    "print(D_vertical)\n",
    "D_horizontal=np.sum(D,axis=1)\n",
    "print(D_horizontal)"
   ]
  },
  {
   "cell_type": "markdown",
   "metadata": {},
   "source": [
    "__(f)__ Ispišite determinantu matrice $R$."
   ]
  },
  {
   "cell_type": "code",
   "execution_count": 21,
   "metadata": {
    "collapsed": false
   },
   "outputs": [
    {
     "name": "stdout",
     "output_type": "stream",
     "text": [
      "0.0043859649122807015\n"
     ]
    }
   ],
   "source": [
    "print(linalg.det(R))"
   ]
  },
  {
   "cell_type": "markdown",
   "metadata": {},
   "source": [
    "__(g)__ Isprobajte vrijedi li $R\\cdot R^{-1} = I$."
   ]
  },
  {
   "cell_type": "code",
   "execution_count": 22,
   "metadata": {
    "collapsed": false
   },
   "outputs": [
    {
     "data": {
      "text/plain": [
       "array([[ 1.,  0.],\n",
       "       [ 0.,  1.]])"
      ]
     },
     "execution_count": 22,
     "metadata": {},
     "output_type": "execute_result"
    }
   ],
   "source": [
    "j=np.dot(linalg.inv(R),R);j"
   ]
  },
  {
   "cell_type": "markdown",
   "metadata": {},
   "source": [
    "__(h)__ Stvorite vektor-stupac $n$ dimenzija $4\\times 1$ čiji su svi elementi 0 (bez ručnog pisanja svih elemenata)."
   ]
  },
  {
   "cell_type": "code",
   "execution_count": 23,
   "metadata": {
    "collapsed": false
   },
   "outputs": [
    {
     "data": {
      "text/plain": [
       "array([[ 0.],\n",
       "       [ 0.],\n",
       "       [ 0.],\n",
       "       [ 0.]])"
      ]
     },
     "execution_count": 23,
     "metadata": {},
     "output_type": "execute_result"
    }
   ],
   "source": [
    "n=np.zeros((4,1));n"
   ]
  },
  {
   "cell_type": "markdown",
   "metadata": {},
   "source": [
    "## 6."
   ]
  },
  {
   "cell_type": "markdown",
   "metadata": {},
   "source": [
    "__(a)__ Napišite kôd koji iscrtava sljedeće funkcije:\n",
    "\n",
    "$f_{1}(x) = \\sqrt{(1-(|x|-1)^2)}$ i $f_{2}(x) = -3 \\cdot \\sqrt{(1-\\sqrt{\\frac{|x|}{2}})}$\n",
    "\n",
    "pritom definirajući domenu funkcija kao $x \\in [-2, 2]$ (u 1000 točaka). Graf funkcije $f_{1}(x)$ prikažite plavom bojom, a graf funkcije $f_{2}(x)$ crvenom. Iscrtajte oba grafa na istoj slici tako da su vidljive točke iz intervala $x \\in [-3, 3]$ i $y \\in [-3, 1.5]$.\n",
    "\n",
    "__(b)__ Ostavite oznake osi jednostavno kao $x$ i $y$. Iscrtajte legendu u donjem desnom kutu tako da je naziv funkcije $f_{1}(x)$ _bolja polovica_, a naziv funkcije $f_{2}(x)$ _dobra polovica_."
   ]
  },
  {
   "cell_type": "code",
   "execution_count": 24,
   "metadata": {
    "collapsed": false
   },
   "outputs": [
    {
     "data": {
      "image/png": "[encoded data removed]",
      "text/plain": [
       "<matplotlib.figure.Figure at 0x72abbe0>"
      ]
     },
     "metadata": {},
     "output_type": "display_data"
    }
   ],
   "source": [
    "import matplotlib.pyplot as plt\n",
    "import pylab\n",
    "x=np.linspace(-2,2,1000);\n",
    "def f1(x):return np.sqrt(1-(np.absolute(x)-1)**2);\n",
    "def f2(x):return -3*np.sqrt(1-np.sqrt(np.absolute(x)*0.5))\n",
    "pylab.xlim(-3,3)\n",
    "pylab.xlabel('x')\n",
    "pylab.ylim(-3,1.5)\n",
    "pylab.ylabel('y')\n",
    "plt.plot(x,f1(x),'b',label='bolja polovica')\n",
    "plt.plot(x,f2(x),'r',label='dobra polovica')\n",
    "pylab.legend(loc='lower right')\n",
    "plt.show()"
   ]
  },
  {
   "cell_type": "markdown",
   "metadata": {},
   "source": [
    "## 7."
   ]
  },
  {
   "cell_type": "markdown",
   "metadata": {},
   "source": [
    "__(a)__ Učitajte skup podataka _Iris_. Ovaj skup podataka sadrži 150 instanci, 50 za svaku od tri klase (_Iris setosa_, _Iris virginica_ i _Iris versicolor_). Svaka instanca, to jest vektor, sadrži četiri značajke: širinu i dužinu latice te širinu i dužinu čašićnog listića. U polju _iris.data_ nalaze se instance, dok se u _iris.target_ nalaze oznake instanci (njihove stvarne klase).  Ispišite dimenzije polja instanci te polja njihovih stvarnih oznaka."
   ]
  },
  {
   "cell_type": "code",
   "execution_count": 54,
   "metadata": {
    "collapsed": false
   },
   "outputs": [
    {
     "name": "stdout",
     "output_type": "stream",
     "text": [
      "(150, 4)\n",
      "(150,)\n"
     ]
    }
   ],
   "source": [
    "import sklearn\n",
    "from sklearn import datasets\n",
    "iris=datasets.load_iris();\n",
    "print(iris.data.shape)\n",
    "#print(iris)\n",
    "print(iris.target.shape)\n"
   ]
  },
  {
   "cell_type": "markdown",
   "metadata": {},
   "source": [
    "__(b)__ Budući da ne možemo vizualizirati 4-dimenzijske podatke, iz svake instance izdvojite samo prve dvije značajke. Koristite indeksiranje poljem brojeva. Ispišite dimenzije dobivenog polja instanci."
   ]
  },
  {
   "cell_type": "code",
   "execution_count": 26,
   "metadata": {
    "collapsed": false
   },
   "outputs": [
    {
     "name": "stdout",
     "output_type": "stream",
     "text": [
      "(150, 2)\n"
     ]
    }
   ],
   "source": [
    "dio=iris.data[:,:2]\n",
    "print(dio.shape)"
   ]
  },
  {
   "cell_type": "markdown",
   "metadata": {},
   "source": [
    "__(c)__ Logičkim indeksiranjem razdvojite primjere za svaku od tri klase. Ispišite dimenzije dobivenih polja."
   ]
  },
  {
   "cell_type": "code",
   "execution_count": 57,
   "metadata": {
    "collapsed": false
   },
   "outputs": [
    {
     "name": "stdout",
     "output_type": "stream",
     "text": [
      "(50, 2)\n",
      "(50, 2)\n",
      "(50, 2)\n"
     ]
    }
   ],
   "source": [
    "prva=dio[iris.target==0];prva\n",
    "print(prva.shape)\n",
    "druga=dio[iris.target==1];druga\n",
    "print(druga.shape)\n",
    "treca=dio[iris.target==2];treca\n",
    "print(treca.shape)"
   ]
  },
  {
   "cell_type": "markdown",
   "metadata": {},
   "source": [
    "__(d)__ Napišite kôd koji iscrtava četiri zasebna grafa (četiri podgrafa u 2x2 mreži), pri čemu tri grafa prikazuju instance određene klase (točke u 2-dimenzijskom prostoru), a četvrti ih prikazuje sve (u različitim bojama). Osigurajte da svi grafovi prikazuju isto područje grafa (npr. $x \\in [4,9]$ i $y \\in [1.5, 5]$).\n",
    "\n",
    "Proučite kako se postavlja veličina glavnog okvira (u koji se smještaju podgrafovi) te ju postavite na 10x8."
   ]
  },
  {
   "cell_type": "code",
   "execution_count": 28,
   "metadata": {
    "collapsed": false
   },
   "outputs": [
    {
     "data": {
      "image/png": "[encoded data removed]",
      "text/plain": [
       "<matplotlib.figure.Figure at 0x82d84a8>"
      ]
     },
     "metadata": {},
     "output_type": "display_data"
    }
   ],
   "source": [
    "x=np.linspace(2,5)\n",
    "f, ((ax1, ax2), (ax3, ax4)) = plt.subplots(2, 2, sharex='col', sharey='row')\n",
    "f.set_size_inches(10,8)\n",
    "ax1.set_xlim(4,9)\n",
    "ax1.set_ylim(1.5,5)\n",
    "ax2.set_xlim(4,9)\n",
    "ax2.set_ylim(1.5,5)\n",
    "ax3.set_xlim(4,9)\n",
    "ax3.set_ylim(1.5,5)\n",
    "ax4.set_xlim(4,9)\n",
    "ax4.set_ylim(1.5,5)\n",
    "ax1.scatter(prva[:,0],prva[:,1])\n",
    "ax2.scatter(druga[:,0],druga[:,1])\n",
    "ax3.scatter(treca[:,0],treca[:,1])\n",
    "ax4.scatter(prva[:,0],prva[:,1],color='c')\n",
    "ax4.scatter(druga[:,0],druga[:,1],color='y')\n",
    "ax4.scatter(treca[:,0],treca[:,1],color='m')\n",
    "plt.show()"
   ]
  },
  {
   "cell_type": "markdown",
   "metadata": {},
   "source": [
    "## 8."
   ]
  },
  {
   "cell_type": "markdown",
   "metadata": {},
   "source": [
    "__(a)__ Napišite kôd koji u petlji iscrtava grafove normalnih distribucija definiranih s parametarima $\\mu$ i $\\sigma$:\n",
    "\n",
    "* $\\mu = 3$\n",
    "* $\\sigma \\in [1, 5]$ (korak 1)\n",
    "\n",
    "Dakle, generirat ćete pet grafova normalnih distribucija: $\\mathcal{N}_{1}(\\mu = 3, \\sigma = 1)$, $\\mathcal{N}_{2}(\\mu = 3, \\sigma = 2)$, ... , $\\mathcal{N}_{1}(\\mu = 3, \\sigma = 5)$.\n",
    "\n",
    "Grafove iscrtajte na istoj slici tako da su vidljive točke iz intervala $x \\in [-15, 15]$ i $y \\in [0, 0.5]$. Za svaki graf upotrijebite drugu boju. Za domenu koristite $[-50, 50]$ (uzorkujte 1000 točaka). Također napravite legendu u gornjem lijevom kutu koji će sve grafove nazvati onako kako su i u zadatku \n",
    "definirani ($\\LaTeX$ kôd radi unutar znakovnih nizova koji definiraju oznaku unutar legende), npr. $\\mathcal{N}_{1}(\\mu = 3, \\sigma = 5)$.\n"
   ]
  },
  {
   "cell_type": "code",
   "execution_count": 60,
   "metadata": {
    "collapsed": false
   },
   "outputs": [
    {
     "data": {
      "image/png": "[encoded data removed]",
      "text/plain": [
       "<matplotlib.figure.Figure at 0x531fda0>"
      ]
     },
     "metadata": {},
     "output_type": "display_data"
    }
   ],
   "source": [
    "from scipy import stats\n",
    "mi=3\n",
    "sigmas=range(1,6);\n",
    "x=np.linspace(-50,50,1000)\n",
    "for sigma,color in zip(sigmas,'ygbcm'):\n",
    "    s='$N_'+str(sigma)+'(\\\\mu='+str(mi)+',\\\\sigma='+str(sigma)+')$';\n",
    "    plt.plot(x,stats.norm.pdf(x,loc=mi,scale=sigma),color,label=r''+str(s))\n",
    "plt.xlim(-15,15)\n",
    "plt.ylim(0,0.5)\n",
    "plt.legend(loc='upper left')\n",
    "plt.show()"
   ]
  },
  {
   "cell_type": "markdown",
   "metadata": {},
   "source": [
    "__(b)__ Sada pretpostavite da imate zadanu distribuciju ocjena na nekom kolegiju koja se pokorava normalnoj distribuciji $\\mathcal{N}_{G}(\\mu = 62, \\sigma = 13)$. Najprije je iscrtajte (nebitno kako), ali osigurajte da je domena $[0, 100]$ (raspon mogućih bodova na kolegiju) također uzorkovana u 1000 točaka."
   ]
  },
  {
   "cell_type": "code",
   "execution_count": 30,
   "metadata": {
    "collapsed": false
   },
   "outputs": [
    {
     "data": {
      "image/png": "[encoded data removed]",
      "text/plain": [
       "<matplotlib.figure.Figure at 0x84ef160>"
      ]
     },
     "metadata": {},
     "output_type": "display_data"
    }
   ],
   "source": [
    "xs=np.linspace(0,100,1000);\n",
    "normal=stats.norm(62,13);\n",
    "plt.plot(xs,normal.pdf(xs))\n",
    "plt.show()"
   ]
  },
  {
   "cell_type": "markdown",
   "metadata": {},
   "source": [
    "__(c)__ Međutim, vi polažete kolegij naknadno na roku, a profesoru se zaista ne da ispravljati vaš ispit. Kako bi tome doskočio, profesor često koristi tradicionalnu metodu stubišta (https://www.linkedin.com/pulse/20140414044726-2259773-a-guide-to-grading-exams) koju možemo aproksimirati nasumičnim odabirom broja iz distribucije bodova na ispitu. Napišite kôd koji iz distribucije bodova $\\mathcal{N}_{G}$ dohvaća slučajnu vrijednost koja predstavlja vaš broj bodova (zaokružite bodove na cijeli broj)."
   ]
  },
  {
   "cell_type": "code",
   "execution_count": 62,
   "metadata": {
    "collapsed": false
   },
   "outputs": [
    {
     "data": {
      "text/plain": [
       "69"
      ]
     },
     "execution_count": 62,
     "metadata": {},
     "output_type": "execute_result"
    }
   ],
   "source": [
    "round(normal.rvs())\n",
    "#round(stats.norm.rvs(loc=62,scale=13))"
   ]
  },
  {
   "cell_type": "markdown",
   "metadata": {},
   "source": [
    "## 9."
   ]
  },
  {
   "cell_type": "markdown",
   "metadata": {},
   "source": [
    "Iscrtajte konture 2-dimenzijske Gausove distribucije $\\mathcal{N} (\\vec{\\mu}, \\Sigma)$ sa sljedećim parametrima:\n",
    "\n",
    "* $\\vec{\\mu} = (1, 1)$\n",
    "* $\\Sigma = \\begin{pmatrix}\n",
    "1 & 1 \\\\\n",
    "0.5 & 3 \\\\\n",
    "\\end{pmatrix}$\n",
    "\n",
    "Za domenu uzmite $x_{1} \\in [-1, 2]$ i $y_{2} \\in [-2, 2]$."
   ]
  },
  {
   "cell_type": "code",
   "execution_count": 72,
   "metadata": {
    "collapsed": false
   },
   "outputs": [
    {
     "name": "stdout",
     "output_type": "stream",
     "text": [
      "[[-1.         -0.996997   -0.99399399 ...,  1.99399399  1.996997    2.        ]\n",
      " [-1.         -0.996997   -0.99399399 ...,  1.99399399  1.996997    2.        ]\n",
      " [-1.         -0.996997   -0.99399399 ...,  1.99399399  1.996997    2.        ]\n",
      " ..., \n",
      " [-1.         -0.996997   -0.99399399 ...,  1.99399399  1.996997    2.        ]\n",
      " [-1.         -0.996997   -0.99399399 ...,  1.99399399  1.996997    2.        ]\n",
      " [-1.         -0.996997   -0.99399399 ...,  1.99399399  1.996997    2.        ]]\n",
      "[[-2.         -2.         -2.         ..., -2.         -2.         -2.        ]\n",
      " [-1.91632653 -1.91632653 -1.91632653 ..., -1.91632653 -1.91632653\n",
      "  -1.91632653]\n",
      " [-1.83265306 -1.83265306 -1.83265306 ..., -1.83265306 -1.83265306\n",
      "  -1.83265306]\n",
      " ..., \n",
      " [ 1.93265306  1.93265306  1.93265306 ...,  1.93265306  1.93265306\n",
      "   1.93265306]\n",
      " [ 2.01632653  2.01632653  2.01632653 ...,  2.01632653  2.01632653\n",
      "   2.01632653]\n",
      " [ 2.1         2.1         2.1        ...,  2.1         2.1         2.1       ]]\n"
     ]
    },
    {
     "data": {
      "image/png": "[encoded data removed]",
      "text/plain": [
       "<matplotlib.figure.Figure at 0x854c828>"
      ]
     },
     "metadata": {},
     "output_type": "display_data"
    }
   ],
   "source": [
    "e=np.array([1,1]);e\n",
    "o=np.array([[1,1],[0.5,3]])\n",
    "mnormal=stats.multivariate_normal(e,o)\n",
    "x1=np.linspace(-1,2,1000)\n",
    "y2=np.linspace(-2,2.1000)\n",
    "X,Y=np.meshgrid(x1,y2);\n",
    "print(X);\n",
    "print(Y);\n",
    "XY=np.dstack((X,Y))\n",
    "plt.pcolormesh(X,Y,mnormal.pdf(XY))\n",
    "plt.show()"
   ]
  },
  {
   "cell_type": "code",
   "execution_count": null,
   "metadata": {
    "collapsed": true
   },
   "outputs": [],
   "source": []
  }
 ],
 "metadata": {
  "kernelspec": {
   "display_name": "Python 3",
   "language": "python",
   "name": "python3"
  },
  "language_info": {
   "codemirror_mode": {
    "name": "ipython",
    "version": 3
   },
   "file_extension": ".py",
   "mimetype": "text/x-python",
   "name": "python",
   "nbconvert_exporter": "python",
   "pygments_lexer": "ipython3",
   "version": "3.4.3"
  }
 },
 "nbformat": 4,
 "nbformat_minor": 0
}
