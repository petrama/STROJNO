{
 "cells": [
  {
   "cell_type": "markdown",
   "metadata": {},
   "source": [
    "Sveučilište u Zagrebu<br>\n",
    "Fakultet elektrotehnike i računarstva\n",
    "\n",
    "# Strojno učenje\n",
    "<a href=\"http://www.fer.unizg.hr/predmet/su\">http://www.fer.unizg.hr/predmet/su</a>\n",
    "\n",
    "Ak. god. 2015./2016.\n",
    "\n",
    "# Laboratorijska vježba 4: Neparametarski modeli i vrednovanje modela\n",
    "\n",
    "# Studentica: Petra Marče (0036473653)\n",
    "\n",
    "(c) 2015 Jan Šnajder, Domagoj Alagić\n",
    "\n",
    "*Verzija 0.2*\n",
    "\n",
    "Objavljeno: **7. siječnja 2016.**<br>\n",
    "Rok za predaju: **11-15. siječnja 2016.**"
   ]
  },
  {
   "cell_type": "markdown",
   "metadata": {},
   "source": [
    "## Upute\n",
    "\n",
    "Laboratorijska vježba 4 sastoji se od 8 zadataka. U nastavku slijedite upute navedene u ćelijama s tekstom. Rješavanje vježbe svodi se na **dopunjavanje ove bilježnice**: umetanja ćelije ili više njih **ispod** teksta zadatka, pisanja odgovarajućeg koda te evaluiranja ćelija. Odgovore na pitanja **nemojte pisati** u bilježnicu koju ćete demonstrirati asistentu (kako ih pri predaji ne biste samo čitali).\n",
    "\n",
    "Osigurajte da u potpunosti **razumijete** kod koji ste napisali. Kod predaje vježbe, morate biti u stanju na zahtjev asistenta preinačiti i ponovno evaluirati Vaš kod. Nadalje, morate razumjeti teorijske osnove onoga što radite, u okvirima onoga što smo obradili na predavanju. Stoga se nemojte ograničiti samo na to da riješite zadatak, već slobodno eksperimentirajte. To upravo i jest svrha ovih vježbi.\n",
    "\n",
    "Vježbe trebate raditi **samostalno**. Možete se konzultirati s drugima o načelnom načinu rješavanja, ali u konačnici morate sami odraditi vježbu. U protivnome vježba nema smisla."
   ]
  },
  {
   "cell_type": "code",
   "execution_count": 15,
   "metadata": {
    "collapsed": false
   },
   "outputs": [
    {
     "name": "stdout",
     "output_type": "stream",
     "text": [
      "Populating the interactive namespace from numpy and matplotlib\n"
     ]
    },
    {
     "name": "stderr",
     "output_type": "stream",
     "text": [
      "WARNING: pylab import has clobbered these variables: ['norm', 'clf']\n",
      "`%matplotlib` prevents importing * from pylab and numpy\n"
     ]
    }
   ],
   "source": [
    "# Učitaj osnovne biblioteke...\n",
    "import scipy as sp\n",
    "import sklearn\n",
    "import pandas as pd\n",
    "%pylab inline"
   ]
  },
  {
   "cell_type": "markdown",
   "metadata": {},
   "source": [
    "Pomoćna funkcija za iscrtavanje ulaznog prostora primjera i granice između klasa:"
   ]
  },
  {
   "cell_type": "code",
   "execution_count": 16,
   "metadata": {
    "collapsed": true
   },
   "outputs": [],
   "source": [
    "def plot_problem(X, y, h=None, surfaces=True) :\n",
    "    '''\n",
    "    Plots a two-dimensional labeled dataset (X,y) and, if function h(x) is given, \n",
    "    the decision boundaries (surfaces=False) or decision surfaces (surfaces=True)\n",
    "    '''\n",
    "    assert X.shape[1] == 2, \"Dataset is not two-dimensional\"\n",
    "    if h != None : \n",
    "        # Create a mesh to plot in\n",
    "        r = 0.02  # mesh resolution\n",
    "        x_min, x_max = X[:, 0].min() - 1, X[:, 0].max() + 1\n",
    "        y_min, y_max = X[:, 1].min() - 1, X[:, 1].max() + 1\n",
    "        xx, yy = np.meshgrid(np.arange(x_min, x_max, r),\n",
    "                             np.arange(y_min, y_max, r))\n",
    "        XX = np.c_[xx.ravel(), yy.ravel()]\n",
    "        try:\n",
    "            Z_test = h(XX)\n",
    "           \n",
    "            if shape(Z_test) == () :\n",
    "                # h returns a scalar when applied to a matrix; map explicitly\n",
    "                Z = sp.array(map(h,XX))\n",
    "            else :\n",
    "                Z = Z_test\n",
    "        except ValueError:\n",
    "            # can't apply to a matrix; map explicitly\n",
    "            Z = sp.array(map(h,XX))\n",
    "        # Put the result into a color plot\n",
    "        Z = Z.reshape(xx.shape)\n",
    "        if surfaces :\n",
    "            plt.contourf(xx, yy, Z, cmap=plt.cm.Pastel1)\n",
    "        else :\n",
    "            plt.contour(xx, yy, Z)\n",
    "    # Plot the dataset\n",
    "    scatter(X[:,0],X[:,1],c=y, cmap=plt.cm.Paired,marker='o',s=50);"
   ]
  },
  {
   "cell_type": "markdown",
   "metadata": {},
   "source": [
    "## Zadatci"
   ]
  },
  {
   "cell_type": "markdown",
   "metadata": {},
   "source": [
    "### 1. Implementacija algoritma k-nn"
   ]
  },
  {
   "cell_type": "markdown",
   "metadata": {},
   "source": [
    "### (a)\n",
    "\n",
    "Implementirajte klasu `KNN` koja implementira algoritam $k$ najbližih susjeda. Neobavezan parametar konstruktora jest broj susjeda ($k$), čija je podrazumijevana vrijednost 3. Definirajte metode `fit(X, y)` i `predict(X)`, koje služe za treniranje modela odnosno predikciju. Kao mjeru udaljenosti koristite euklidsku udaljenost ([`scipy.linalg.norm`](http://docs.scipy.org/doc/numpy-1.10.0/reference/generated/numpy.linalg.norm.html)). Nije potrebno implementirati težinsku funkciju."
   ]
  },
  {
   "cell_type": "code",
   "execution_count": 17,
   "metadata": {
    "collapsed": false
   },
   "outputs": [],
   "source": [
    "from scipy.linalg import norm\n",
    "from sklearn.utils import check_array\n",
    "from sklearn.metrics.pairwise import pairwise_distances\n",
    "\n",
    "\n",
    "def check(X):\n",
    "    if len(X.shape)==1:\n",
    "        return X.reshape(1,-1)\n",
    "    return X\n",
    "\n",
    "def udaljenosti(X,fitX):\n",
    "    return pairwise_distances(X,fitX,'euclidean',squared=True)\n",
    "\n",
    "class kNN:\n",
    "    def __init__(self,k=3):\n",
    "        self.k=k\n",
    "    def fit(self,X,y):\n",
    "        self.X=X\n",
    "        self.y=y\n",
    "    def predict(self,Xs):\n",
    "        Xs=check(Xs)\n",
    "        predicted=np.empty(Xs.shape[0], dtype=self.y[0].dtype)\n",
    "        for i,X in enumerate(Xs):\n",
    "            d=udaljenosti(X.reshape(1,-1),self.X)\n",
    "            sort_indeksi= numpy.argsort(d)[:self.k]\n",
    "            neigh_ind = argpartition(d, self.k - 1, axis=1)\n",
    "            neigh_ind = neigh_ind[:, :self.k]\n",
    "            r=self.y[[neigh_ind]]\n",
    "            brojJedinica=np.count_nonzero(r)\n",
    "            if brojJedinica>self.k/2:\n",
    "                predicted[i]=1\n",
    "            else:\n",
    "                predicted[i]=0\n",
    "        return predicted\n",
    "   \n",
    "    \n"
   ]
  },
  {
   "cell_type": "markdown",
   "metadata": {},
   "source": [
    "### (b)\n",
    "\n",
    "Isprobajte algoritam implementiran u (a) dijelu zadatka na umjetno generiranome skupu s $n=2$ značajke, $K=2$ klase i $N=100$ primjera. Provjerite ispravnost algoritma tako da predikcije usporedite s onima algoritma [`sklearn.neighbors.KNeighborsClassifier`](http://scikit-learn.org/stable/modules/generated/sklearn.neighbors.KNeighborsClassifier.html#sklearn.neighbors.KNeighborsClassifier)."
   ]
  },
  {
   "cell_type": "code",
   "execution_count": 19,
   "metadata": {
    "collapsed": false
   },
   "outputs": [
    {
     "name": "stderr",
     "output_type": "stream",
     "text": [
      "C:\\Users\\Petra\\Anaconda3\\lib\\site-packages\\matplotlib\\collections.py:590: FutureWarning: elementwise comparison failed; returning scalar instead, but in the future will perform elementwise comparison\n",
      "  if self._edgecolors == str('face'):\n"
     ]
    },
    {
     "data": {
      "image/png": "[encoded data removed]",
      "text/plain": [
       "<matplotlib.figure.Figure at 0x5826ba8>"
      ]
     },
     "metadata": {},
     "output_type": "display_data"
    }
   ],
   "source": [
    "from sklearn.neighbors import NearestNeighbors\n",
    "from sklearn.datasets import make_classification\n",
    "from sklearn.metrics import accuracy_score\n",
    "from sklearn import neighbors\n",
    "\n",
    "X, y = make_classification(n_samples=100, n_features=2, n_classes=2, n_redundant=0, n_clusters_per_class=2,random_state=19)\n",
    "plot_problem(X, y)\n",
    "\n",
    "\n",
    "\n",
    "\n",
    "\n"
   ]
  },
  {
   "cell_type": "code",
   "execution_count": 20,
   "metadata": {
    "collapsed": false
   },
   "outputs": [
    {
     "name": "stdout",
     "output_type": "stream",
     "text": [
      "KNeighboursClassifier\n",
      "[1 0 1 1 1 1 0 0 0 1 0 1 0 1 0 1 1 0 0 1 0 1 0 0 1 0 0 1 0 0 1 1 0 1 0 1 1\n",
      " 1 1 0 0 1 1 0 0 0 1 0 1 1 0 1 0 0 0 0 1 0 0 0 1 1 1 0 0 0 1 1 0 1 0 1 1 0\n",
      " 1 0 0 1 0 0 1 0 1 1 1 1 0 1 1 0 0 0 1 1 0 1 1 1 1 0]\n",
      "0.95\n",
      "moj kNN\n",
      "[1 0 1 1 1 1 0 0 0 1 0 1 0 1 0 1 1 0 0 1 0 1 0 0 1 0 0 1 0 0 1 1 0 1 0 1 1\n",
      " 1 1 0 0 1 1 0 0 0 1 0 1 1 0 1 0 0 0 0 1 0 0 0 1 1 1 0 0 0 1 1 0 1 0 1 1 0\n",
      " 1 0 0 1 0 0 1 0 1 1 1 1 0 1 1 0 0 0 1 1 0 1 1 1 1 0]\n",
      "0.95\n"
     ]
    }
   ],
   "source": [
    "clf=neighbors.KNeighborsClassifier(3)\n",
    "clf.fit(X,y)\n",
    "\n",
    "print(\"KNeighboursClassifier\")\n",
    "print(clf.predict(X))\n",
    "print(accuracy_score(y,clf.predict(X)))\n",
    "\n",
    "moj=kNN()\n",
    "moj.fit(X,y)\n",
    "print(\"moj kNN\")\n",
    "print(moj.predict(X))\n",
    "print(accuracy_score(y,moj.predict(X)))"
   ]
  },
  {
   "cell_type": "markdown",
   "metadata": {},
   "source": [
    "### (c) \n",
    "\n",
    "Pomoću funkcije `plot_problem` iscrtajte prostor primjera i područja koja odgovaraju prvoj odnosno drugoj klasi. Eksperimentirajte s različitim vrijednostima za broj primjera $N$, broj susjeda $k$ i broj klasa $K$.\n",
    "\n",
    "**NB:** Implementacija algoritma `KNeighborsClassifier` iz sklearna vjerojatno će raditi brže od vaše implementacije, pa koristite nju za iscrtavanje grafa. Naime, za iscrtavanje grafa potrebno je napraviti predikciju za svaku točku u regiji iscrtavanja."
   ]
  },
  {
   "cell_type": "markdown",
   "metadata": {},
   "source": [
    "**Q:** Kako hiperparametar $k$ utječe na izgled granice između klasa?\n",
    "    \n",
    "**Q:** U kojem slučaju (za koju vrijednost $k$) pogreška učenja može doseći nulu? Zašto?\n",
    "    \n",
    "**Q:** Kako biste odredili optimalnu vrijednost za $k$?"
   ]
  },
  {
   "cell_type": "code",
   "execution_count": 6,
   "metadata": {
    "collapsed": false
   },
   "outputs": [
    {
     "name": "stderr",
     "output_type": "stream",
     "text": [
      "C:\\Users\\Petra\\Anaconda3\\lib\\site-packages\\matplotlib\\collections.py:590: FutureWarning: elementwise comparison failed; returning scalar instead, but in the future will perform elementwise comparison\n",
      "  if self._edgecolors == str('face'):\n"
     ]
    },
    {
     "data": {
      "image/png": "[encoded data removed]",
      "text/plain": [
       "<matplotlib.figure.Figure at 0x909b198>"
      ]
     },
     "metadata": {},
     "output_type": "display_data"
    }
   ],
   "source": [
    "plot_problem(X,y,clf.predict)"
   ]
  },
  {
   "cell_type": "markdown",
   "metadata": {},
   "source": [
    "### 2. Empirijska analiza algoritma k-nn\n",
    "\n",
    "Algoritam k-nn ima hiperparametar $k$ (broj susjeda). Taj parametar izravno utječe na složenost algoritma, pa je važno dobro odabrati njegovu vrijednost. Kao i kod mnogih drugih algoritama, tako i kod algoritma k-nn optimalna vrijednost hiperametra $k$ ovisi o konkretnom problemu, uključivo broju primjera $N$, broju značajki (dimenzija) $n$ te broju klasa $K$. Svrha ovog zadatka jest provesti sustavnu empirijsku analizu ovih ovisnosti."
   ]
  },
  {
   "cell_type": "markdown",
   "metadata": {},
   "source": [
    "### (a)\n",
    "\n",
    "Sintetički skup primjera od $N=200$ primjera s $n=2$ značajke i $K=2$ klase podijelite na skup za učenje i skup za ispitivanje u omjeru 7:3 (koristite funkciju [`sklearn.cross_validation.train_test_split`](http://scikit-learn.org/stable/modules/generated/sklearn.cross_validation.train_test_split.html)). Iscrtajte krivulje pogreške učenja i pogreške ispitivanja za $k\\in\\{1,\\dots,20\\}$."
   ]
  },
  {
   "cell_type": "code",
   "execution_count": 21,
   "metadata": {
    "collapsed": false
   },
   "outputs": [
    {
     "data": {
      "text/plain": [
       "[<matplotlib.lines.Line2D at 0x584af60>]"
      ]
     },
     "execution_count": 21,
     "metadata": {},
     "output_type": "execute_result"
    },
    {
     "data": {
      "image/png": "[encoded data removed]",
      "text/plain": [
       "<matplotlib.figure.Figure at 0x584a908>"
      ]
     },
     "metadata": {},
     "output_type": "display_data"
    }
   ],
   "source": [
    "from sklearn.cross_validation import train_test_split\n",
    "from sklearn.metrics import zero_one_loss\n",
    "\n",
    "X, y = make_classification(n_samples=1000, n_features=2, n_classes=2, n_redundant=0, n_clusters_per_class=2)\n",
    "X_train, X_test, y_train, y_test = train_test_split(X,y,train_size=0.7,random_state=42)\n",
    "ks=list(range(1,21))\n",
    "train_err=np.empty(len(ks))\n",
    "test_err=np.empty(len(ks))\n",
    "clf.fit(X_train,y_train)\n",
    "for i,k in enumerate(ks):\n",
    "    clf.n_neighbors=k\n",
    "    train_err[i]=zero_one_loss(y_train,clf.predict(X_train))\n",
    "    test_err[i]=zero_one_loss(y_test,clf.predict(X_test))\n",
    "plot(ks,train_err)\n",
    "plot(ks,test_err)\n",
    "    \n",
    "    \n",
    "# Vaš kôd ovdje..."
   ]
  },
  {
   "cell_type": "markdown",
   "metadata": {},
   "source": [
    "**Q:** Kojem području odgovara prenaučenost, a kojem podnaučenost modela? Zašto?\n",
    "\n",
    "**Q:** Jesu li ovi rezultati stabilni? Zašto?"
   ]
  },
  {
   "cell_type": "markdown",
   "metadata": {},
   "source": [
    "### (b) \n",
    "\n",
    "Kako bismo dobili pouzdanije rezultate, potrebno je mjerenja ponoviti na različitim skupovima podataka i zatim uprosječiti dobivene vrijednosti pogreška. Definirajte funkciju\n",
    "\n",
    "> `knn_eval(n_instances, n_features=2, n_classes=2, n_informative=2, test_size=0.3, k_range=(1, 20), n_trials=100)`\n",
    "\n",
    "koja trenira i ispituje model k-nn na ukupno `n_instances` primjera, i to tako da za svaku vrijednost hiperparametra iz zadanog intervala `k_range` ponovi `n_trials` mjerenja, generirajući svaki puta nov skup podataka pomoću funkcije `make_classification`. Vrijednosti parametara `n_instances`, `n_features`, `n_classes` i `n_informative` proslijedite funkciji `make_classification` te dodatno postavite `n_redundant=0` i `n_clusters_per_class=1`. Svaki generirani skup primjera treba pomoću funkcije `train_test_split` podijeliti na skup za učenje i skup za ispitivanje, pri čemu je udio skupa za ispitivanje definiran  parametrom `test_size`. Tu podjelu nije potrebno dodatno ponavljati; dovoljno je što se u svakoj iteraciji generira posve nov skup primjera. Povratne vrijednosti funkcije jest trojka `(best_k, train_errors, test_errors)`. Vrijednost `best_k` je optimalna vrijednost hiperparametra $k$ (vrijednost za koju je pogreška na skupu za ispitivanje najmanja). Vrijednosti `train_errors` i `test_errors`  liste su pogrešaka na skupu za učenja odnosno skupu za testiranje za sve razmatrane vrijednosti hiperparametra $k$."
   ]
  },
  {
   "cell_type": "code",
   "execution_count": 9,
   "metadata": {
    "collapsed": false
   },
   "outputs": [],
   "source": [
    "def knn_eval(n_instances, n_features=2, n_classes=2, n_informative=2, test_size=0.3, k_range=range(1, 20), n_trials=100):\n",
    "    train_err=np.zeros(len(k_range))\n",
    "    test_err=np.zeros(len(k_range))\n",
    "    for i in range (0,n_trials):\n",
    "        X, y = make_classification(n_samples=n_instances, n_features=n_features, n_classes=n_classes, n_redundant=0,n_informative=n_informative, n_clusters_per_class=1,random_state=117+i)\n",
    "        X_train, X_test, y_train, y_test = train_test_split(X,y,train_size=1-test_size,random_state=42+i)\n",
    "        clf.fit(X_train,y_train)\n",
    "        for i,k in enumerate(k_range):\n",
    "            clf.n_neighbors=k\n",
    "            \n",
    "            train_err[i]+=zero_one_loss(y_train,clf.predict(X_train))\n",
    "            test_err[i]+=zero_one_loss(y_test,clf.predict(X_test))\n",
    "    train_err=train_err*(1/n_trials)\n",
    "    test_err=test_err*(1/n_trials)\n",
    "    best_k=k_range[argmin(test_err)]\n",
    "    return (best_k,train_err,test_err)\n",
    "\n"
   ]
  },
  {
   "cell_type": "markdown",
   "metadata": {},
   "source": [
    "### (c)\n",
    "\n",
    "Pomoću funkcije `knn_eval` iz (b) dijela zadatka, iscrtajte pogrešku učenja i ispitivanja kao funkcije hiperparametra $k$, $k\\in\\{1,\\dots,20\\}$, za $N=200$ primjera. Ispišite i optimalnu vrijednost za $k$."
   ]
  },
  {
   "cell_type": "code",
   "execution_count": 10,
   "metadata": {
    "collapsed": false
   },
   "outputs": [
    {
     "name": "stdout",
     "output_type": "stream",
     "text": [
      "best_k= 5\n"
     ]
    },
    {
     "data": {
      "text/plain": [
       "[<matplotlib.lines.Line2D at 0x9d96710>]"
      ]
     },
     "execution_count": 10,
     "metadata": {},
     "output_type": "execute_result"
    },
    {
     "data": {
      "image/png": "[encoded data removed]",
      "text/plain": [
       "<matplotlib.figure.Figure at 0x9be2198>"
      ]
     },
     "metadata": {},
     "output_type": "display_data"
    }
   ],
   "source": [
    "k_range=range(1,20)\n",
    "N=200\n",
    "best_k,train_err,test_err=knn_eval(N,k_range=k_range)\n",
    "print(\"best_k=\",best_k)\n",
    "plot(k_range,train_err)\n",
    "plot(k_range,test_err)"
   ]
  },
  {
   "cell_type": "markdown",
   "metadata": {},
   "source": [
    "**Q:** Jesu li rezultati očekivani? Obrazložite."
   ]
  },
  {
   "cell_type": "markdown",
   "metadata": {},
   "source": [
    "### (d)\n",
    "\n",
    "Pomoću funkcije `knn_eval` iz (b) dijela zadatka, iscrtajte pogreške učenja i ispitivanja kao funkcije hiperparametra $k$, $k\\in\\{1,\\dots,20\\}$, za $N=\\{50, 100, 200, 500, 1000, 5000\\}$ primjera. Načinite 6 zasebnih grafikona (generirajte ih u for-petlji). U svakoj iteraciji ispišite optimalnu vrijednost za $k$."
   ]
  },
  {
   "cell_type": "code",
   "execution_count": 22,
   "metadata": {
    "collapsed": false
   },
   "outputs": [
    {
     "name": "stdout",
     "output_type": "stream",
     "text": [
      "za N= 50 best_k= 3\n",
      "za N= 100 best_k= 7\n",
      "za N= 200 best_k= 5\n",
      "za N= 500 best_k= 6\n",
      "za N= 1000 best_k= 8\n",
      "za N= 5000 best_k= 15\n",
      "[3, 7, 5, 6, 8, 15]\n"
     ]
    },
    {
     "data": {
      "image/png": "[encoded data removed]",
      "text/plain": [
       "<matplotlib.figure.Figure at 0x57cddd8>"
      ]
     },
     "metadata": {},
     "output_type": "display_data"
    }
   ],
   "source": [
    "Ns=[50,100,200,500,1000,5000]\n",
    "Ns_best_ks=[]\n",
    "k_range=range(1,20)\n",
    "fig=plt.figure(6,figsize=(13,10))\n",
    "for i,N in enumerate(Ns):\n",
    "    fig.add_subplot(\"32\"+str(i+1))\n",
    "    plt.title(\"N=\"+str(N))\n",
    "    best_k,train_err,test_err=knn_eval(N,k_range=k_range)\n",
    "    Ns_best_ks.append(best_k)\n",
    "    print(\"za N=\",str(N),\"best_k=\",best_k)\n",
    "    plot(k_range,train_err)\n",
    "    plot(k_range,test_err)\n",
    "print(Ns_best_ks)"
   ]
  },
  {
   "cell_type": "markdown",
   "metadata": {},
   "source": [
    "**Q:** Jesu li rezultati očekivani? Obrazložite."
   ]
  },
  {
   "cell_type": "markdown",
   "metadata": {},
   "source": [
    "### (e)\n",
    "\n",
    "Pomoću funkcije `knn_eval` iz (b) dijela zadatka, iscrtajte pogreške učenja i ispitivanja kao funkcije hiperparametra $k$, $k\\in\\{1,\\dots,20\\}$, za broj dimenzija $n=\\{2,3,\\dots,10\\}$, i to za $N=200$ primjera. Načinite 8 zasebnih grafikona (generirajte ih u for-petlji). U svakoj iteraciji ispišite optimalnu vrijednost za $k$."
   ]
  },
  {
   "cell_type": "code",
   "execution_count": null,
   "metadata": {
    "collapsed": false
   },
   "outputs": [
    {
     "name": "stdout",
     "output_type": "stream",
     "text": [
      "za n= 2 best_k= 5\n",
      "za n= 3 best_k= 5\n",
      "za n= 4 best_k= 7\n",
      "za n= 5 best_k= 17\n",
      "za n= 6 best_k= 7\n",
      "za n= 7 best_k= 19\n",
      "za n="
     ]
    }
   ],
   "source": [
    "ns=range(2,10)\n",
    "N=200\n",
    "ns_best_ks=[]\n",
    "fig=plt.figure(8,figsize=(13,15))\n",
    "for i,n in enumerate(ns):\n",
    "    fig.add_subplot(\"42\"+str(i+1))\n",
    "    plt.title(\"n=\"+str(n))\n",
    "    best_k,train_err,test_err=knn_eval(N,k_range=k_range,n_features=n)\n",
    "    ns_best_ks.append(best_k)\n",
    "    print(\"za n=\",str(n),\"best_k=\",best_k)\n",
    "    plot(k_range,train_err)\n",
    "    plot(k_range,test_err)\n",
    "print(ns_best_ks)"
   ]
  },
  {
   "cell_type": "markdown",
   "metadata": {},
   "source": [
    "**Q:** Jesu li rezultati očekivani? Obrazložite."
   ]
  },
  {
   "cell_type": "markdown",
   "metadata": {},
   "source": [
    "### (f)\n",
    "\n",
    "Pomoću funkcije `knn_eval` iz (b) dijela zadatka, iscrtajte pogreške učenja i ispitivanja kao funkcije hiperparametra $k$, $k\\in\\{1,\\dots,20\\}$, za broj klasa $K=\\{2,3,4,5\\}$, i to za $N=200$ primjera. Načinite 4 zasebnih grafikona (generirajte ih u for-petlji). U svakoj iteraciji ispišite optimalnu vrijednost za $k$."
   ]
  },
  {
   "cell_type": "code",
   "execution_count": 12,
   "metadata": {
    "collapsed": false
   },
   "outputs": [
    {
     "name": "stdout",
     "output_type": "stream",
     "text": [
      "za K= 2 best_k= 3\n",
      "za K= 3 best_k= 5\n",
      "za K= 4 best_k= 3\n",
      "za K= 5 best_k= 3\n",
      "[3, 5, 3, 3]\n"
     ]
    },
    {
     "data": {
      "image/png": "[encoded data removed]",
      "text/plain": [
       "<matplotlib.figure.Figure at 0x9d03160>"
      ]
     },
     "metadata": {},
     "output_type": "display_data"
    }
   ],
   "source": [
    "fig=plt.figure(4,figsize=(10,10))\n",
    "ks=[2,3,4,5]\n",
    "Ks_best_ks=[]\n",
    "N=200\n",
    "n=3\n",
    "for i,k in enumerate(ks):\n",
    "    fig.add_subplot(\"22\"+str(i+1))\n",
    "    plt.title(\"K=\"+str(k))\n",
    "    best_k,train_err,test_err=knn_eval(N,n_classes=k,n_informative=3,n_features=n)\n",
    "    Ks_best_ks.append(best_k)\n",
    "    print(\"za K=\",str(k),\"best_k=\",best_k)\n",
    "    plot(k_range,train_err)\n",
    "    plot(k_range,test_err)\n",
    "print(Ks_best_ks)"
   ]
  },
  {
   "cell_type": "markdown",
   "metadata": {},
   "source": [
    "**Q:** Jesu li rezultati očekivani? Obrazložite."
   ]
  },
  {
   "cell_type": "markdown",
   "metadata": {},
   "source": [
    "### (g)\n",
    "\n",
    "U prethodnim zadatcima analizirali smo oblik krivulja pogreška u ovisnosti o $k$, za nekoliko odabranih vrijednosti parametara $N$, $n$ odnosno $K$. Tako dobiveni uvidi su korisni, međutim, u praksi ćemo vrijednost za $k$ optimirati na skupu za provjeru, pa nas zapravo zanima kako se pogreške ponašaju uz optimalnu vrijednost za $k$. \n",
    "\n",
    "Koristeću funkciju `knn_eval` iz (b) dijela zadatka, generirajte grafikone koji prikazuju pogreške učenja i ispitivanja za optimalnu vrijednost $k$ (vrijednost za koju je ispitna pogreška najmanja), i to (1) u ovisnosti o broju primjera ($N\\in\\{100, 200,\\dots, 1000\\}$), (2) broju značajki ($n\\in\\{2,\\dots,10\\})$ i (3) broju klasa ($K\\in\\{2,\\dots,10\\})$. Posljednja dva grafikona generirajte s $N=1000$ primjera. Ukupno trebate generirati tri grafikona, svaki s dvije krivulje (pogreška učenja i pogreška ispitivanja)."
   ]
  },
  {
   "cell_type": "code",
   "execution_count": 16,
   "metadata": {
    "collapsed": false
   },
   "outputs": [
    {
     "name": "stdout",
     "output_type": "stream",
     "text": [
      "[50, 100, 200, 500, 1000, 5000] [3, 7, 5, 6, 8, 15]\n",
      "range(2, 10) [5, 3, 3, 3, 3, 3, 5, 5]\n",
      "[2, 3, 4, 5] [3, 5, 3, 3]\n"
     ]
    }
   ],
   "source": [
    "xs=(Ns,ns,ks)\n",
    "best_ks=(Ns_best_ks,ns_best_ks,Ks_best_ks)\n",
    "for x,best_k in zip(xs,best_ks):\n",
    "    print(x,best_k)\n",
    "    train_err=zeros(len(x))\n",
    "    test_err=zeros(len(x))"
   ]
  },
  {
   "cell_type": "code",
   "execution_count": 23,
   "metadata": {
    "collapsed": false
   },
   "outputs": [
    {
     "name": "stdout",
     "output_type": "stream",
     "text": [
      "3 [ 0.04114286] [ 0.068]\n",
      "7 [ 0.04471429] [ 0.04366667]\n",
      "5 [ 0.04071429] [ 0.05533333]\n",
      "6 [ 0.03791429] [ 0.04473333]\n",
      "8 [ 0.0367] [ 0.04333333]\n",
      "15 [ 0.03704286] [ 0.03962]\n"
     ]
    },
    {
     "data": {
      "image/png": "[encoded data removed]",
      "text/plain": [
       "<matplotlib.figure.Figure at 0x9df2518>"
      ]
     },
     "metadata": {},
     "output_type": "display_data"
    }
   ],
   "source": [
    "train_err_Ns=zeros(len(Ns))\n",
    "test_err_Ns=zeros(len(Ns))\n",
    "for i,N in enumerate(Ns):\n",
    "    best_k=[Ns_best_ks[i]]\n",
    "    k,train,test=knn_eval(N,k_range=best_k)\n",
    "    train_err_Ns[i]=train[0]\n",
    "    test_err_Ns[i]=test[0]\n",
    "    print(k,train,test)\n",
    "plot(Ns,train_err_Ns,label='train')\n",
    "plot(Ns,test_err_Ns,label='test')\n",
    "plt.legend()\n",
    "plt.show()"
   ]
  },
  {
   "cell_type": "code",
   "execution_count": 24,
   "metadata": {
    "collapsed": false
   },
   "outputs": [
    {
     "name": "stdout",
     "output_type": "stream",
     "text": [
      "5 [ 0.03368571] [ 0.0443]\n",
      "3 [ 0.03134286] [ 0.05136667]\n",
      "3 [ 0.03397143] [ 0.05873333]\n",
      "3 [ 0.03695714] [ 0.06403333]\n",
      "3 [ 0.04058571] [ 0.07313333]\n",
      "3 [ 0.04324286] [ 0.0747]\n",
      "5 [ 0.05207143] [ 0.0755]\n",
      "5 [ 0.054] [ 0.0835]\n"
     ]
    },
    {
     "data": {
      "image/png": "[encoded data removed]",
      "text/plain": [
       "<matplotlib.figure.Figure at 0xa640470>"
      ]
     },
     "metadata": {},
     "output_type": "display_data"
    }
   ],
   "source": [
    "train_err_ns=zeros(len(ns))\n",
    "test_err_ns=zeros(len(ns))\n",
    "for i,n in enumerate(ns):\n",
    "    best_k=[ns_best_ks[i]]\n",
    "    k,train,test=knn_eval(1000,k_range=best_k,n_features=n)\n",
    "    #k,train,test=knn_eval(1000,k_range=best_k,n_features=n,n_informative=n)\n",
    "    train_err_ns[i]=train[0]\n",
    "    test_err_ns[i]=test[0]\n",
    "    if(k!=best_k[0]):\n",
    "        print('alo')\n",
    "    print(k,train,test)\n",
    "plot(ns,train_err_ns,label='train')\n",
    "plot(ns,test_err_ns,label='test')\n",
    "plt.legend()\n",
    "plt.show()"
   ]
  },
  {
   "cell_type": "code",
   "execution_count": 19,
   "metadata": {
    "collapsed": false
   },
   "outputs": [
    {
     "name": "stdout",
     "output_type": "stream",
     "text": [
      "3 [ 0.02745714] [ 0.0436]\n",
      "5 [ 0.0602] [ 0.0814]\n",
      "3 [ 0.07422857] [ 0.12543333]\n",
      "3 [ 0.09345714] [ 0.15783333]\n"
     ]
    },
    {
     "data": {
      "image/png": "[encoded data removed]",
      "text/plain": [
       "<matplotlib.figure.Figure at 0xa7b75f8>"
      ]
     },
     "metadata": {},
     "output_type": "display_data"
    }
   ],
   "source": [
    "train_err_Ks=zeros(len(ks))\n",
    "test_err_Ks=zeros(len(ks))\n",
    "for i,K in enumerate(ks):\n",
    "    best_k=[Ks_best_ks[i]]\n",
    "    k,train,test=knn_eval(1000,k_range=best_k,n_classes=K,n_informative=3,n_features=3)\n",
    "    train_err_Ks[i]=train[0]\n",
    "    test_err_Ks[i]=test[0]\n",
    "    if(k!=best_k[0]):\n",
    "        print('alo')\n",
    "    print(k,train,test)\n",
    "plot(ks,train_err_Ks,label='train')\n",
    "plot(ks,test_err_Ks,label='test')\n",
    "plt.legend()\n",
    "plt.show()"
   ]
  },
  {
   "cell_type": "markdown",
   "metadata": {},
   "source": [
    "**Q:** Jesu li rezultati očekivani? Obrazložite."
   ]
  },
  {
   "cell_type": "markdown",
   "metadata": {},
   "source": [
    "### 3. Nerobusnost algoritma k-nn"
   ]
  },
  {
   "cell_type": "markdown",
   "metadata": {},
   "source": [
    "Svrha ovog zadatka jest analizirati u kojoj je mjeri algoritam k-nn osjetljiv na razlike u mjernoj skali između pojedinih dimenzija te na prisutnost nebitnih značajki."
   ]
  },
  {
   "cell_type": "markdown",
   "metadata": {},
   "source": [
    "### (a)\n",
    "\n",
    "Pomoću funkcije `make_classification` generirajte skup od $N=200$ primera sa $n=2$ značajke i $K=2$ klase. Postavite `n_reduntant=0` i `n_clusters_per_class=2`. Zatim napravite kopiju tog skupa podataka i preinačite ju tako da jednu dimenziju pomnožite sa 100. Oba skupa podijelite na skup za učenje i skup za ispitivanje u omjeru 7:3, pri čemu obratite pozornost da oba skupa podijelite na identičan način, tako da se skupovi za učenje i ispitivanje oni u konačnici razlikuju jedino u tome što jedan ima jednu dimenziju skaliranu. Trenirajte modele k-nn na skaliranoj i neskaliranoj varijanti skupa za učenje, a zatim ispitajte model na odgovarajućim ispitnim varijantama skupova."
   ]
  },
  {
   "cell_type": "code",
   "execution_count": 26,
   "metadata": {
    "collapsed": false
   },
   "outputs": [
    {
     "name": "stdout",
     "output_type": "stream",
     "text": [
      "Neskalirano: 0.966666666667\n",
      "Skalirano: 0.9\n"
     ]
    }
   ],
   "source": [
    "X, y = make_classification(n_samples=200, n_features=2, n_classes=2, n_redundant=0, n_clusters_per_class=2,random_state=333)\n",
    "X2=X.copy()\n",
    "X2[:,0]=X2[:,0]*100\n",
    "X_train, X_test, y_train, y_test = train_test_split(X,y,train_size=0.7,random_state=42)\n",
    "X2_train, X2_test, y_train, y_test = train_test_split(X2,y,train_size=0.7,random_state=42)\n",
    "clf.fit(X_train,y_train)\n",
    "print(\"Neskalirano:\",accuracy_score(y_test,clf.predict(X_test)))\n",
    "clf.fit(X2_train,y_train)\n",
    "print(\"Skalirano:\",accuracy_score(y_test,clf.predict(X2_test)))"
   ]
  },
  {
   "cell_type": "markdown",
   "metadata": {},
   "source": [
    "**Q:** Jesu li rezultati očekivani? Obrazložite."
   ]
  },
  {
   "cell_type": "markdown",
   "metadata": {},
   "source": [
    "### (b)\n",
    "\n",
    "Kako bismo provjerili u kojoj je mjeri algoritam k-nn osjetljiv na prisustvo nebitnih značajki, možemo iskoristiti funkciju `make_classification` kako bismo generirali skup primjera kojemu su neke od značajki nebitne. Naime, parametar `n_informative` određuje broj bitnih značajki, dok parametar `n_features` određuje ukupan broj značajki. Ako je `n_features > n_informative`, onda će neke od značajki biti nebitne. Umjesto da izravno upotrijebimo funkciju `make_classification`, upotrijebit ćemo funkciju `knn_eval` iz zadatka (2b), jer ćemo na taj način dobiti pouzdanije procjene.\n",
    "\n",
    "Generirajte dva skupa primjera, oba sa $N=1000$ primjera, $n=10$ značajki i $K=5$ klasa, ali za prvi neka su svih 10 značajki bitne, a za drugi neka je bitno samo 5 od 10 značajki. Ispišite pogreške učenja i ispitivanja za oba modela za optimalnu vrijednost $k$ (vrijednost za koju je ispitna pogreška najmanja)."
   ]
  },
  {
   "cell_type": "code",
   "execution_count": 21,
   "metadata": {
    "collapsed": false
   },
   "outputs": [
    {
     "name": "stdout",
     "output_type": "stream",
     "text": [
      "11 0.100057142857 0.131\n",
      "15 0.162028571429 0.204266666667\n"
     ]
    }
   ],
   "source": [
    "N=1000\n",
    "n=10\n",
    "K=5\n",
    "n_informatives=[10,5]\n",
    "for n_informative in n_informatives:\n",
    "    best_k,test,train= knn_eval(N, n_features=n, n_classes=K, n_informative=n_informative)\n",
    "    print(best_k,test[best_k],train[best_k])\n"
   ]
  },
  {
   "cell_type": "markdown",
   "metadata": {},
   "source": [
    "### (c)\n",
    "\n",
    "U prethodnom zadatku ograničili smo se na slučaj kada je samo pola značajki bitnih. Načinite grafikon optimalne ispitne pogreške (za optimalan $k$) kao funkcije broja bitnih značajki u intervalu $\\{5,\\dots,20\\}$. Ukupan broj značajki neka je uvijek $n=20$. Radi  usporedbe, ponovite isti izračun za model logističke regresije iz [`linear_model.LogisticRegression`](http://scikit-learn.org/stable/modules/generated/sklearn.linear_model.LogisticRegression.html). Na istome grafikonu prikažite krivulje ispitne pogreške za oba modela."
   ]
  },
  {
   "cell_type": "code",
   "execution_count": 223,
   "metadata": {
    "collapsed": false
   },
   "outputs": [
    {
     "data": {
      "image/png": "[encoded data removed]",
      "text/plain": [
       "<matplotlib.figure.Figure at 0x88aeb70>"
      ]
     },
     "metadata": {},
     "output_type": "display_data"
    }
   ],
   "source": [
    "from sklearn.linear_model import LogisticRegression\n",
    "from sklearn.metrics import log_loss\n",
    "\n",
    "lr=LogisticRegression()\n",
    "N=200\n",
    "n=20\n",
    "K=2\n",
    "n_informatives=range(5,21)\n",
    "opt_test_errs_knn=zeros(len(n_informatives))\n",
    "opt_train_errs_knn=zeros(len(n_informatives))\n",
    "test_errs_lr=zeros(len(n_informatives))\n",
    "train_errs_lr=zeros(len(n_informatives))\n",
    "for i,n_informative in enumerate(n_informatives):\n",
    "    best_k,test_err,train_err=knn_eval(N,n_features=n,n_classes=K,n_informative=n_informative)\n",
    "    opt_train_errs_knn[i]=train_err[best_k]\n",
    "    opt_test_errs_knn[i]=test_err[best_k]\n",
    "    X, y = make_classification(n_samples=N, n_features=n, n_classes=K, n_informative=n_informative,n_redundant=0,random_state=333)\n",
    "    X_train, X_test, y_train, y_test = train_test_split(X,y,train_size=0.7,random_state=42)\n",
    "    lr.fit(X_train,y_train)\n",
    "    train_errs_lr[i]=zero_one_loss(y_train,lr.predict(X_train))\n",
    "    test_errs_lr[i]=zero_one_loss(y_test,lr.predict(X_test))\n",
    "    \n",
    "    \n",
    "plot(n_informatives,opt_train_errs_knn,label='opt train knn')\n",
    "plot(n_informatives,opt_test_errs_knn,label='opt test knn')\n",
    "plot(n_informatives,train_errs_lr,label='train lr')\n",
    "plot(n_informatives,test_errs_lr,label='test lr')\n",
    "plt.legend()\n",
    "plt.show()"
   ]
  },
  {
   "cell_type": "markdown",
   "metadata": {},
   "source": [
    "**Q:** Koji je model manje robusan na prisustvo nebitnih značajki? Što mislite, zašto je tomu tako?"
   ]
  },
  {
   "cell_type": "markdown",
   "metadata": {},
   "source": [
    "### *4. \"Prokletstvo dimenzionalnosti\"\n",
    "\n",
    "<span style=\"color:green\">(Rješavanje ovog zadatka nije obavezno već donosi dodatne bodove.)</span>"
   ]
  },
  {
   "cell_type": "markdown",
   "metadata": {},
   "source": [
    "[\"Prokletstvo dimenzionalnosti\"](https://en.wikipedia.org/wiki/Curse_of_dimensionality) zbirni je naziv za niz fenomena povezanih s visokodimenzijskim prostorima. Ti fenomeni, koji se uglavnom protive našoj intuiciji, u većini slučajeva dovode do toga da se s porastom broja dimenzija (značajki) smanjenje točnost modela. Na to su osobito osjetljivi klasifikacijski modeli temeljeni na udaljenosti, kao što je algoritam k-nn. Svrha ovog zadatka jest ispitati kako povećanje broja dimenzija utječe na algoritam k-nn."
   ]
  },
  {
   "cell_type": "markdown",
   "metadata": {},
   "source": [
    "### (a) \n",
    "\n",
    "Općenito, povećanje dimenzija dovodi do toga da sve točke u ulaznome prostoru postaju (u smislu euklidske udaljenosti) sve udaljenije jedne od drugih te se, posljedično, gube razlike u udaljenostima između točaka. Eksperimentalno ćemo provjeriti da je to doista slučaj. \n",
    "\n",
    "Proučite funkciju `sklearn.metrics.pairwise.pairwise_distances`. Generirajte 100 slučajnih vektora u $n=5$ dimenzija te izračunajte prosječnu euklidsku udaljenost između svih parova tih vektora. Ponovite to za $n=10$ dimenzija."
   ]
  },
  {
   "cell_type": "code",
   "execution_count": 27,
   "metadata": {
    "collapsed": false
   },
   "outputs": [
    {
     "name": "stdout",
     "output_type": "stream",
     "text": [
      "0.89332612848\n",
      "1.23713534532\n",
      "0.217927727706\n",
      "0.260486233035\n"
     ]
    }
   ],
   "source": [
    "from sklearn.metrics.pairwise import pairwise_distances\n",
    "\n",
    "vectors=np.random.rand(100,5)\n",
    "dists=pairwise_distances(vectors,vectors)\n",
    "#print(dists.diagonal())\n",
    "print(np.average(dists))\n",
    "\n",
    "vectors=np.random.rand(100,10)\n",
    "dists=pairwise_distances(vectors,vectors)\n",
    "print(np.average(dists))\n",
    "\n",
    "vectors=np.random.rand(100,5)\n",
    "dists=pairwise_distances(vectors,vectors,metric='cosine')\n",
    "#print(dists.diagonal())\n",
    "print(np.average(dists))\n",
    "\n",
    "vectors=np.random.rand(100,10)\n",
    "dists=pairwise_distances(vectors,vectors,metric='cosine')\n",
    "print(np.average(dists))\n",
    "\n",
    "yy=np.random.randint(2, size=100)"
   ]
  },
  {
   "cell_type": "markdown",
   "metadata": {},
   "source": [
    "Sada ponovite isti eksperiment, ali koristeći kosinus kao mjeru sličnosti (funkciji `pairwise_distances` postavite `metric='cosine'`)."
   ]
  },
  {
   "cell_type": "markdown",
   "metadata": {},
   "source": [
    "**Q:** Pokušajte objasniti razlike u rezultatima. Koju biste od ovih dviju mjera koristili za klasifikaciju visokodimenzijskih podatakaka?"
   ]
  },
  {
   "cell_type": "code",
   "execution_count": null,
   "metadata": {
    "collapsed": true
   },
   "outputs": [],
   "source": []
  },
  {
   "cell_type": "markdown",
   "metadata": {},
   "source": [
    "### (b)\n",
    "\n",
    "Proučite funkciju [sklearn.neighbors.NearestNeighbors](http://scikit-learn.org/stable/modules/generated/sklearn.neighbors.NearestNeighbors.html#sklearn.neighbors.NearestNeighbors). Pomoću nje, definirajte funkciju `eval_neighbors(X, y, n_neighbors=5, metric='euclidean')` koja za zadani skup za učenje `(X,y)` najprije izračunava susjede za svaki primjer iz `X`, a zatim izračunava (1) prosječan broj susjeda koji su iste klase kao i primjer čiji su oni susjedi te (2) udio primjera u `X` čija je klasa jednaka većinskoj klasi njegovih susjeda."
   ]
  },
  {
   "cell_type": "code",
   "execution_count": 36,
   "metadata": {
    "collapsed": false
   },
   "outputs": [
    {
     "name": "stdout",
     "output_type": "stream",
     "text": [
      "215\n"
     ]
    },
    {
     "data": {
      "text/plain": [
       "(2.15, 0.36)"
      ]
     },
     "execution_count": 36,
     "metadata": {},
     "output_type": "execute_result"
    }
   ],
   "source": [
    "\n",
    "def eval_neighbors(X,y,n_neighbors=5,metric='euclidean'):\n",
    "   \n",
    "    nn=NearestNeighbors(n_neighbors=n_neighbors,metric=metric,algorithm='brute')\n",
    "    nn.fit(X)\n",
    "    broj_susjeda_iste_klase=0\n",
    "    vecinski=0\n",
    "    dists,indices=nn.kneighbors()\n",
    "    for i,x in enumerate(X):\n",
    "        oznaka_x=y[i]\n",
    "        oznake=y[indices[i]]\n",
    "        pom=oznake[oznake==oznaka_x]\n",
    "        broj=len(pom)\n",
    "        broj_susjeda_iste_klase+=broj\n",
    "        if(broj>n_neighbors/2):\n",
    "            vecinski+=1\n",
    "    print(broj_susjeda_iste_klase)\n",
    "    return (broj_susjeda_iste_klase/len(y),vecinski/len(y))\n",
    "\n",
    "eval_neighbors(vectors,yy)"
   ]
  },
  {
   "cell_type": "markdown",
   "metadata": {},
   "source": [
    "Sada nas zanima kako povećanje broja dimenzija utječe na susjedstvo primjera, kada se ono izračunava euklidskom udaljenošću. Skicirajte krivulje dviju vrijednosti koje izračunava funkcija `eval_neighbors` (broj susjeda s istom oznakom kao i središnji primjer te broj primjera s oznakom jednakom većinskim oznakama susjeda) kao funkcije broja dimenzija $n$, $n\\in\\{10,60,\\dots,960\\}$. Eksperiment provedite na sintetički generiranome skupu od $N=1000$ primjera sa $K=5$ klasa."
   ]
  },
  {
   "cell_type": "code",
   "execution_count": 37,
   "metadata": {
    "collapsed": false
   },
   "outputs": [
    {
     "name": "stdout",
     "output_type": "stream",
     "text": [
      "2772\n",
      "1767\n",
      "1576\n",
      "1405\n",
      "1396\n",
      "1240\n",
      "1264\n",
      "1278\n",
      "1171\n",
      "1178\n",
      "1158\n",
      "1257\n",
      "1203\n",
      "1226\n",
      "1180\n",
      "1133\n",
      "1160\n",
      "1288\n",
      "1167\n",
      "1160\n"
     ]
    },
    {
     "data": {
      "text/plain": [
       "[<matplotlib.lines.Line2D at 0x5470668>]"
      ]
     },
     "execution_count": 37,
     "metadata": {},
     "output_type": "execute_result"
    },
    {
     "data": {
      "image/png": "[encoded data removed]",
      "text/plain": [
       "<matplotlib.figure.Figure at 0x54704a8>"
      ]
     },
     "metadata": {},
     "output_type": "display_data"
    }
   ],
   "source": [
    "\n",
    "ns=range(10,961)\n",
    "prvo=zeros(len(ns))\n",
    "drugo=zeros(len(ns))\n",
    "out=[]\n",
    "for n in range(10,961,50):\n",
    "    X, y = make_classification(n_samples=1000, n_features=n, n_classes=5, n_informative=5, n_redundant=0, n_clusters_per_class=2,random_state=19)\n",
    "    out.append(eval_neighbors(X,y))\n",
    "out=np.array(out)\n",
    "plot(range(10,961,50),out[:,0])\n",
    "plot(range(10,961,50),out[:,1])"
   ]
  },
  {
   "cell_type": "markdown",
   "metadata": {},
   "source": [
    "**Q:** Je li rezultat očekivan? Obrazložite.\n",
    "    \n",
    "**Q:** Uzrokuje li smanjenje broja susjeda koji imaju istu oznaku kao i njihov središnji primjer nužno i smanjenje točnosti klasifikacije? Obrazložite."
   ]
  },
  {
   "cell_type": "markdown",
   "metadata": {},
   "source": [
    "Ponovite isti eksperiment i za kosinusnu udaljenost."
   ]
  },
  {
   "cell_type": "code",
   "execution_count": 38,
   "metadata": {
    "collapsed": false
   },
   "outputs": [
    {
     "name": "stdout",
     "output_type": "stream",
     "text": [
      "2810\n",
      "1979\n",
      "1773\n",
      "1626\n",
      "1571\n",
      "1367\n",
      "1352\n",
      "1415\n",
      "1280\n",
      "1314\n",
      "1295\n",
      "1304\n",
      "1292\n",
      "1297\n",
      "1245\n",
      "1225\n",
      "1300\n",
      "1282\n",
      "1238\n",
      "1242\n"
     ]
    },
    {
     "data": {
      "text/plain": [
       "[<matplotlib.lines.Line2D at 0x9dc7390>]"
      ]
     },
     "execution_count": 38,
     "metadata": {},
     "output_type": "execute_result"
    },
    {
     "data": {
      "image/png": "[encoded data removed]",
      "text/plain": [
       "<matplotlib.figure.Figure at 0xa618ac8>"
      ]
     },
     "metadata": {},
     "output_type": "display_data"
    }
   ],
   "source": [
    "\n",
    "ns=range(10,961)\n",
    "prvo=zeros(len(ns))\n",
    "drugo=zeros(len(ns))\n",
    "out2=[]\n",
    "for n in range(10,961,50):\n",
    "    X, y = make_classification(n_samples=1000, n_features=n, n_classes=5, n_informative=5, n_redundant=0, n_clusters_per_class=2,random_state=19)\n",
    "    out2.append(eval_neighbors(X,y,metric='cosine'))\n",
    "out2=np.array(out2)\n",
    "plot(range(10,961,50),out2[:,0])\n",
    "plot(range(10,961,50),out2[:,1])\n",
    "plot(range(10,961,50),out[:,0])\n",
    "plot(range(10,961,50),out[:,1])"
   ]
  },
  {
   "cell_type": "markdown",
   "metadata": {},
   "source": [
    "### 5. Primjena algoritma k-nn na skupu \"101 Questions\""
   ]
  },
  {
   "cell_type": "markdown",
   "metadata": {},
   "source": [
    "U ovom zadatku algoritam k-nn primijenit ćemo na skup podataka \"101 Questions\". Skup sadrži odgovore 99 studenata na 101 dihotomno pitanje kojima iskazuju svoju preferenciju prema jednoj od dviju stvari (npr. \"more\" vs \"planina\"). Skup podataka preuzmite odavde:"
   ]
  },
  {
   "cell_type": "code",
   "execution_count": 40,
   "metadata": {
    "collapsed": false
   },
   "outputs": [],
   "source": [
    "import pandas as pd\n",
    "q101 = pd.read_csv(\"https://github.com/jsnajder/StrojnoUcenje/raw/master/data/questions101-2015.csv\", comment='#')"
   ]
  },
  {
   "cell_type": "markdown",
   "metadata": {},
   "source": [
    "### (a)\n",
    "\n",
    "Prvi stupac (oznaka \"Ime/pseudonim:\") jest ime odnosno pseudonim anketiranog studenta/ice, dok su ostali stupci odgovori na pitanja. Taj je stupac potrebno ukloniti iz podataka (zašto?). Nadalje, na dva od 101 pitanja svih 99 anketiranih studenata dalo je identičan odgovor. Pronađite koja su to dva pitanja ([pomoć](http://stackoverflow.com/questions/30503321/finding-count-of-distinct-elements-in-dataframe-in-each-column)) te ih uklonite (uklonite odgovarajuće retke). U načelu ne bi bio problem da te značajke zadržimo, međutim, zbog načina na koji ćemo napraviti predobradu podataka, opisan u nastavku, bitno je ipak da ih uklonimo.\n",
    "\n",
    "Odgovori na pitanja kategoričke su slučajne varijable. Premda bismo načelno mogli primijeniti algoritam k-nn na kategoričke značajke, implementacija u sklearnu to ne dopušta, pa je kategoričke značajke potrebno pretvoriti u numeričke. Pretvorba kategoričkih u numeričke značajke tipično se provodi tzv. *one-hot* kodiranjem. Upoznajte se s tim kodiranjem i zašto je ono potrebno: [one-hot encoding](http://stackoverflow.com/questions/17469835/one-hot-encoding-for-machine-learning).\n",
    "\n",
    "Provedite one-hot kodiranje podataka (nakon izbacivanja dvaju suvišnih stupaca). To možete najlakše učiniti izravno nad pandas-okvirom, funkcijom [`get_dummies`](http://pandas.pydata.org/pandas-docs/stable/generated/pandas.get_dummies.html).\n",
    "\n",
    "**Q:** Objasnite zašto kategoričke značajke kodiramo one-hot postupkom, a ne nekim drugim (npr. zašto ih jednostavno ne indeksiramo po vrijednostima)?\n",
    "\n",
    "**Q:** Koja je dimenzija podataka q101 nakon *one-hot* kodiranja? Zašto?"
   ]
  },
  {
   "cell_type": "code",
   "execution_count": 41,
   "metadata": {
    "collapsed": false
   },
   "outputs": [],
   "source": [
    "import pandas as pd\n",
    "imena=q101.get('Ime/pseudonim:')\n"
   ]
  },
  {
   "cell_type": "code",
   "execution_count": 42,
   "metadata": {
    "collapsed": false
   },
   "outputs": [
    {
     "name": "stdout",
     "output_type": "stream",
     "text": [
      "(99, 101)\n"
     ]
    }
   ],
   "source": [
    "\n",
    "q101 = q101.drop('Ime/pseudonim:', axis=1)\n",
    "print(q101.get_values().shape)\n"
   ]
  },
  {
   "cell_type": "code",
   "execution_count": 43,
   "metadata": {
    "collapsed": false
   },
   "outputs": [
    {
     "name": "stdout",
     "output_type": "stream",
     "text": [
      "(99, 99)\n",
      "(99, 198)\n"
     ]
    }
   ],
   "source": [
    "import pandas as pd\n",
    "dist=q101.T.apply(lambda x: x.nunique(),axis=1)\n",
    "stupci=dist[dist==1].index\n",
    "q101=q101.drop(stupci,axis=1)\n",
    "print(q101.get_values().shape)\n",
    "#print(q101)\n",
    "q101oh=pd.get_dummies(q101)\n",
    "print(q101oh.shape)"
   ]
  },
  {
   "cell_type": "markdown",
   "metadata": {},
   "source": [
    "### (b)\n",
    "\n",
    "Proučite funkciju [sklearn.neighbors.NearestNeighbors](http://scikit-learn.org/stable/modules/generated/sklearn.neighbors.NearestNeighbors.html#sklearn.neighbors.NearestNeighbors). Pomoću te funkcije, ispišite za svakog od 99 anketiranih studenata/ica njihovih pet najbližih susjeda po euklidskoj mjeri udaljenosti. Ispišite imena odnosno pseudonim svakog studenta/ice te također imena odnosno pseudonim njihovih pet najbližih susjeda."
   ]
  },
  {
   "cell_type": "code",
   "execution_count": 44,
   "metadata": {
    "collapsed": false,
    "scrolled": false
   },
   "outputs": [
    {
     "name": "stdout",
     "output_type": "stream",
     "text": [
      "Osoba: Zdravko Mamic\n",
      "Susjedi:  89    kale\n",
      "16      ja\n",
      "Name: Ime/pseudonim:, dtype: object\n",
      "Euklidske  Udaljenosti:  [ 6.63324958  6.78232998]\n",
      "Hammingove Udaljenosti: [ 44.  46.]\n",
      "-------\n",
      "Osoba: Josip\n",
      "Susjedi:  11        Ante\n",
      "21    maslačak\n",
      "Name: Ime/pseudonim:, dtype: object\n",
      "Euklidske  Udaljenosti:  [ 6.63324958  6.78232998]\n",
      "Hammingove Udaljenosti: [ 44.  46.]\n",
      "-------\n",
      "Osoba: Ivan Dundović\n",
      "Susjedi:  29    Filip\n",
      "42      Kec\n",
      "Name: Ime/pseudonim:, dtype: object\n",
      "Euklidske  Udaljenosti:  [ 6.92820323  7.07106781]\n",
      "Hammingove Udaljenosti: [ 48.  50.]\n",
      "-------\n",
      "Osoba: Vinkovic Tomo\n",
      "Susjedi:  0    Zdravko Mamic\n",
      "6            Mateo\n",
      "Name: Ime/pseudonim:, dtype: object\n",
      "Euklidske  Udaljenosti:  [ 7.48331477  7.48331477]\n",
      "Hammingove Udaljenosti: [ 56.  56.]\n",
      "-------\n",
      "Osoba: Muškarac24\n",
      "Susjedi:  96    Jakov Ivančan\n",
      "51             Mimi\n",
      "Name: Ime/pseudonim:, dtype: object\n",
      "Euklidske  Udaljenosti:  [ 7.87400787  7.87400787]\n",
      "Hammingove Udaljenosti: [ 62.  62.]\n",
      "-------\n",
      "Osoba: Ante\n",
      "Susjedi:  81         Filip\n",
      "38    Bojanovski\n",
      "Name: Ime/pseudonim:, dtype: object\n",
      "Euklidske  Udaljenosti:  [ 7.48331477  7.74596669]\n",
      "Hammingove Udaljenosti: [ 56.  60.]\n",
      "-------\n",
      "Osoba: Mateo\n",
      "Susjedi:  14    Chiraox\n",
      "52        Ojo\n",
      "Name: Ime/pseudonim:, dtype: object\n",
      "Euklidske  Udaljenosti:  [ 7.21110255  7.21110255]\n",
      "Hammingove Udaljenosti: [ 52.  52.]\n",
      "-------\n",
      "Osoba: nordlys\n",
      "Susjedi:  94      Luka\n",
      "64    Antiša\n",
      "Name: Ime/pseudonim:, dtype: object\n",
      "Euklidske  Udaljenosti:  [ 7.74596669  8.        ]\n",
      "Hammingove Udaljenosti: [ 60.  64.]\n",
      "-------\n",
      "Osoba: Password123\n",
      "Susjedi:  59    Gljiva\n",
      "45    Zlatan\n",
      "Name: Ime/pseudonim:, dtype: object\n",
      "Euklidske  Udaljenosti:  [ 7.48331477  7.48331477]\n",
      "Hammingove Udaljenosti: [ 56.  56.]\n",
      "-------\n",
      "Osoba: Taylor Bagley\n",
      "Susjedi:  88              Vicky\n",
      "54    Jan Tomljanović\n",
      "Name: Ime/pseudonim:, dtype: object\n",
      "Euklidske  Udaljenosti:  [ 7.34846923  7.34846923]\n",
      "Hammingove Udaljenosti: [ 54.  54.]\n",
      "-------\n",
      "Osoba: Miško\n",
      "Susjedi:  32      Pevec\n",
      "7     nordlys\n",
      "Name: Ime/pseudonim:, dtype: object\n",
      "Euklidske  Udaljenosti:  [ 8.1240384   8.24621125]\n",
      "Hammingove Udaljenosti: [ 66.  68.]\n",
      "-------\n",
      "Osoba: Ante\n",
      "Susjedi:  1        Josip\n",
      "17    musketir\n",
      "Name: Ime/pseudonim:, dtype: object\n",
      "Euklidske  Udaljenosti:  [ 6.63324958  6.92820323]\n",
      "Hammingove Udaljenosti: [ 44.  48.]\n",
      "-------\n",
      "Osoba: dextroza\n",
      "Susjedi:  17    musketir\n",
      "33       zmajo\n",
      "Name: Ime/pseudonim:, dtype: object\n",
      "Euklidske  Udaljenosti:  [ 7.21110255  7.74596669]\n",
      "Hammingove Udaljenosti: [ 52.  60.]\n",
      "-------\n",
      "Osoba: Backo\n",
      "Susjedi:  25    765100\n",
      "1      Josip\n",
      "Name: Ime/pseudonim:, dtype: object\n",
      "Euklidske  Udaljenosti:  [ 7.61577311  7.87400787]\n",
      "Hammingove Udaljenosti: [ 58.  62.]\n",
      "-------\n",
      "Osoba: Chiraox\n",
      "Susjedi:  79           Spidey\n",
      "0     Zdravko Mamic\n",
      "Name: Ime/pseudonim:, dtype: object\n",
      "Euklidske  Udaljenosti:  [ 6.92820323  7.21110255]\n",
      "Hammingove Udaljenosti: [ 48.  52.]\n",
      "-------\n",
      "Osoba: Yuki\n",
      "Susjedi:  17    musketir\n",
      "32       Pevec\n",
      "Name: Ime/pseudonim:, dtype: object\n",
      "Euklidske  Udaljenosti:  [ 7.48331477  7.74596669]\n",
      "Hammingove Udaljenosti: [ 56.  60.]\n",
      "-------\n",
      "Osoba: ja\n",
      "Susjedi:  0     Zdravko Mamic\n",
      "72      Petar!!!!!!\n",
      "Name: Ime/pseudonim:, dtype: object\n",
      "Euklidske  Udaljenosti:  [ 6.78232998  7.07106781]\n",
      "Hammingove Udaljenosti: [ 46.  50.]\n",
      "-------\n",
      "Osoba: musketir\n",
      "Susjedi:  1     Josip\n",
      "11     Ante\n",
      "Name: Ime/pseudonim:, dtype: object\n",
      "Euklidske  Udaljenosti:  [ 6.92820323  6.92820323]\n",
      "Hammingove Udaljenosti: [ 48.  48.]\n",
      "-------\n",
      "Osoba: vrana\n",
      "Susjedi:  29    Filip\n",
      "42      Kec\n",
      "Name: Ime/pseudonim:, dtype: object\n",
      "Euklidske  Udaljenosti:  [ 7.21110255  7.34846923]\n",
      "Hammingove Udaljenosti: [ 52.  54.]\n",
      "-------\n",
      "Osoba: pajopatak\n",
      "Susjedi:  32     Pevec\n",
      "31    dumdum\n",
      "Name: Ime/pseudonim:, dtype: object\n",
      "Euklidske  Udaljenosti:  [ 7.74596669  7.87400787]\n",
      "Hammingove Udaljenosti: [ 60.  62.]\n",
      "-------\n",
      "Osoba: neznamsad\n",
      "Susjedi:  24     Dario\n",
      "58    Jantol\n",
      "Name: Ime/pseudonim:, dtype: object\n",
      "Euklidske  Udaljenosti:  [ 6.78232998  7.07106781]\n",
      "Hammingove Udaljenosti: [ 46.  50.]\n",
      "-------\n",
      "Osoba: maslačak\n",
      "Susjedi:  1        Josip\n",
      "17    musketir\n",
      "Name: Ime/pseudonim:, dtype: object\n",
      "Euklidske  Udaljenosti:  [ 6.78232998  7.07106781]\n",
      "Hammingove Udaljenosti: [ 46.  50.]\n",
      "-------\n",
      "Osoba: Tin\n",
      "Susjedi:  8    Password123\n",
      "5           Ante\n",
      "Name: Ime/pseudonim:, dtype: object\n",
      "Euklidske  Udaljenosti:  [ 7.74596669  7.74596669]\n",
      "Hammingove Udaljenosti: [ 60.  60.]\n",
      "-------\n",
      "Osoba: tp\n",
      "Susjedi:  81    Filip\n",
      "91     rela\n",
      "Name: Ime/pseudonim:, dtype: object\n",
      "Euklidske  Udaljenosti:  [ 7.21110255  8.        ]\n",
      "Hammingove Udaljenosti: [ 52.  64.]\n",
      "-------\n",
      "Osoba: Dario\n",
      "Susjedi:  59       Gljiva\n",
      "20    neznamsad\n",
      "Name: Ime/pseudonim:, dtype: object\n",
      "Euklidske  Udaljenosti:  [ 6.4807407   6.78232998]\n",
      "Hammingove Udaljenosti: [ 42.  46.]\n",
      "-------\n",
      "Osoba: 765100\n",
      "Susjedi:  42                Kec\n",
      "54    Jan Tomljanović\n",
      "Name: Ime/pseudonim:, dtype: object\n",
      "Euklidske  Udaljenosti:  [ 6.78232998  7.34846923]\n",
      "Hammingove Udaljenosti: [ 46.  54.]\n",
      "-------\n",
      "Osoba: porcupine\n",
      "Susjedi:  61       Marluk\n",
      "75    Krumpirko\n",
      "Name: Ime/pseudonim:, dtype: object\n",
      "Euklidske  Udaljenosti:  [ 7.07106781  7.34846923]\n",
      "Hammingove Udaljenosti: [ 50.  54.]\n",
      "-------\n",
      "Osoba: luka\n",
      "Susjedi:  42     Kec\n",
      "94    Luka\n",
      "Name: Ime/pseudonim:, dtype: object\n",
      "Euklidske  Udaljenosti:  [ 7.61577311  7.61577311]\n",
      "Hammingove Udaljenosti: [ 58.  58.]\n",
      "-------\n",
      "Osoba: Domagoj Boros\n",
      "Susjedi:  18    vrana\n",
      "60    Flige\n",
      "Name: Ime/pseudonim:, dtype: object\n",
      "Euklidske  Udaljenosti:  [ 7.48331477  7.48331477]\n",
      "Hammingove Udaljenosti: [ 56.  56.]\n",
      "-------\n",
      "Osoba: Filip\n",
      "Susjedi:  48      polo\n",
      "61    Marluk\n",
      "Name: Ime/pseudonim:, dtype: object\n",
      "Euklidske  Udaljenosti:  [ 6.63324958  6.78232998]\n",
      "Hammingove Udaljenosti: [ 44.  46.]\n",
      "-------\n",
      "Osoba: Saturn\n",
      "Susjedi:  88    Vicky\n",
      "60    Flige\n",
      "Name: Ime/pseudonim:, dtype: object\n",
      "Euklidske  Udaljenosti:  [ 7.34846923  7.48331477]\n",
      "Hammingove Udaljenosti: [ 54.  56.]\n",
      "-------\n",
      "Osoba: dumdum\n",
      "Susjedi:  81    Filip\n",
      "66    Paula\n",
      "Name: Ime/pseudonim:, dtype: object\n",
      "Euklidske  Udaljenosti:  [ 7.07106781  7.74596669]\n",
      "Hammingove Udaljenosti: [ 50.  60.]\n",
      "-------\n",
      "Osoba: Pevec\n",
      "Susjedi:  39    netkonesto\n",
      "1          Josip\n",
      "Name: Ime/pseudonim:, dtype: object\n",
      "Euklidske  Udaljenosti:  [ 7.34846923  7.48331477]\n",
      "Hammingove Udaljenosti: [ 54.  56.]\n",
      "-------\n",
      "Osoba: zmajo\n",
      "Susjedi:  95    MaliPrinc\n",
      "86       mislav\n",
      "Name: Ime/pseudonim:, dtype: object\n",
      "Euklidske  Udaljenosti:  [ 6.4807407   7.48331477]\n",
      "Hammingove Udaljenosti: [ 42.  56.]\n",
      "-------\n",
      "Osoba: mirkov pseudonim\n",
      "Susjedi:  96    Jakov Ivančan\n",
      "81            Filip\n",
      "Name: Ime/pseudonim:, dtype: object\n",
      "Euklidske  Udaljenosti:  [ 7.48331477  7.48331477]\n",
      "Hammingove Udaljenosti: [ 56.  56.]\n",
      "-------\n",
      "Osoba: pepi\n",
      "Susjedi:  48      polo\n",
      "36    Karkić\n",
      "Name: Ime/pseudonim:, dtype: object\n",
      "Euklidske  Udaljenosti:  [ 7.07106781  7.34846923]\n",
      "Hammingove Udaljenosti: [ 50.  54.]\n",
      "-------\n",
      "Osoba: Karkić\n",
      "Susjedi:  35                  pepi\n",
      "47    staljinove-orgulje\n",
      "Name: Ime/pseudonim:, dtype: object\n",
      "Euklidske  Udaljenosti:  [ 7.34846923  8.1240384 ]\n",
      "Hammingove Udaljenosti: [ 54.  66.]\n",
      "-------\n",
      "Osoba: burst\n",
      "Susjedi:  77    Ivan Paljak\n",
      "91           rela\n",
      "Name: Ime/pseudonim:, dtype: object\n",
      "Euklidske  Udaljenosti:  [ 7.48331477  7.87400787]\n",
      "Hammingove Udaljenosti: [ 56.  62.]\n",
      "-------\n",
      "Osoba: Bojanovski\n",
      "Susjedi:  5             Ante\n",
      "40    Ivan Ivković\n",
      "Name: Ime/pseudonim:, dtype: object\n",
      "Euklidske  Udaljenosti:  [ 7.74596669  7.87400787]\n",
      "Hammingove Udaljenosti: [ 60.  62.]\n",
      "-------\n",
      "Osoba: netkonesto\n",
      "Susjedi:  32    Pevec\n",
      "90      Sly\n",
      "Name: Ime/pseudonim:, dtype: object\n",
      "Euklidske  Udaljenosti:  [ 7.34846923  7.48331477]\n",
      "Hammingove Udaljenosti: [ 54.  56.]\n",
      "-------\n",
      "Osoba: Ivan Ivković\n",
      "Susjedi:  21           maslačak\n",
      "68    Atila Bič Božji\n",
      "Name: Ime/pseudonim:, dtype: object\n",
      "Euklidske  Udaljenosti:  [ 7.48331477  7.74596669]\n",
      "Hammingove Udaljenosti: [ 56.  60.]\n",
      "-------\n",
      "Osoba: Renato\n",
      "Susjedi:  45    Zlatan\n",
      "30    Saturn\n",
      "Name: Ime/pseudonim:, dtype: object\n",
      "Euklidske  Udaljenosti:  [ 6.78232998  7.61577311]\n",
      "Hammingove Udaljenosti: [ 46.  58.]\n",
      "-------\n",
      "Osoba: Kec\n",
      "Susjedi:  25    765100\n",
      "88     Vicky\n",
      "Name: Ime/pseudonim:, dtype: object\n",
      "Euklidske  Udaljenosti:  [ 6.78232998  6.92820323]\n",
      "Hammingove Udaljenosti: [ 46.  48.]\n",
      "-------\n",
      "Osoba: emi\n",
      "Susjedi:  75        Krumpirko\n",
      "96    Jakov Ivančan\n",
      "Name: Ime/pseudonim:, dtype: object\n",
      "Euklidske  Udaljenosti:  [ 7.21110255  7.61577311]\n",
      "Hammingove Udaljenosti: [ 52.  58.]\n",
      "-------\n",
      "Osoba: DF\n",
      "Susjedi:  42                 Kec\n",
      "34    mirkov pseudonim\n",
      "Name: Ime/pseudonim:, dtype: object\n",
      "Euklidske  Udaljenosti:  [ 7.61577311  7.74596669]\n",
      "Hammingove Udaljenosti: [ 58.  60.]\n",
      "-------\n",
      "Osoba: Zlatan\n",
      "Susjedi:  41    Renato\n",
      "48      polo\n",
      "Name: Ime/pseudonim:, dtype: object\n",
      "Euklidske  Udaljenosti:  [ 6.78232998  7.21110255]\n",
      "Hammingove Udaljenosti: [ 46.  52.]\n",
      "-------\n",
      "Osoba: Stipe\n",
      "Susjedi:  59    Gljiva\n",
      "58    Jantol\n",
      "Name: Ime/pseudonim:, dtype: object\n",
      "Euklidske  Udaljenosti:  [ 7.74596669  7.87400787]\n",
      "Hammingove Udaljenosti: [ 60.  62.]\n",
      "-------\n",
      "Osoba: staljinove-orgulje\n",
      "Susjedi:  36    Karkić\n",
      "10     Miško\n",
      "Name: Ime/pseudonim:, dtype: object\n",
      "Euklidske  Udaljenosti:  [ 8.1240384   8.24621125]\n",
      "Hammingove Udaljenosti: [ 66.  68.]\n",
      "-------\n",
      "Osoba: polo\n",
      "Susjedi:  29    Filip\n",
      "35     pepi\n",
      "Name: Ime/pseudonim:, dtype: object\n",
      "Euklidske  Udaljenosti:  [ 6.63324958  7.07106781]\n",
      "Hammingove Udaljenosti: [ 44.  50.]\n",
      "-------\n",
      "Osoba: Jelena Kopcic\n",
      "Susjedi:  29    Filip\n",
      "90      Sly\n",
      "Name: Ime/pseudonim:, dtype: object\n",
      "Euklidske  Udaljenosti:  [ 7.87400787  8.        ]\n",
      "Hammingove Udaljenosti: [ 62.  64.]\n",
      "-------\n",
      "Osoba: m7\n",
      "Susjedi:  81     Filip\n",
      "25    765100\n",
      "Name: Ime/pseudonim:, dtype: object\n",
      "Euklidske  Udaljenosti:  [ 7.61577311  7.61577311]\n",
      "Hammingove Udaljenosti: [ 58.  58.]\n",
      "-------\n",
      "Osoba: Mimi\n",
      "Susjedi:  75    Krumpirko\n",
      "16           ja\n",
      "Name: Ime/pseudonim:, dtype: object\n",
      "Euklidske  Udaljenosti:  [ 7.61577311  7.61577311]\n",
      "Hammingove Udaljenosti: [ 58.  58.]\n",
      "-------\n",
      "Osoba: Ojo\n",
      "Susjedi:  81    Filip\n",
      "6     Mateo\n",
      "Name: Ime/pseudonim:, dtype: object\n",
      "Euklidske  Udaljenosti:  [ 7.21110255  7.21110255]\n",
      "Hammingove Udaljenosti: [ 52.  52.]\n",
      "-------\n",
      "Osoba: Jure\n",
      "Susjedi:  15     Yuki\n",
      "32    Pevec\n",
      "Name: Ime/pseudonim:, dtype: object\n",
      "Euklidske  Udaljenosti:  [ 7.87400787  8.1240384 ]\n",
      "Hammingove Udaljenosti: [ 62.  66.]\n",
      "-------\n",
      "Osoba: Jan Tomljanović\n",
      "Susjedi:  61           Marluk\n",
      "9     Taylor Bagley\n",
      "Name: Ime/pseudonim:, dtype: object\n",
      "Euklidske  Udaljenosti:  [ 7.21110255  7.34846923]\n",
      "Hammingove Udaljenosti: [ 52.  54.]\n",
      "-------\n",
      "Osoba: Josip U\n",
      "Susjedi:  98     Tomy\n",
      "32    Pevec\n",
      "Name: Ime/pseudonim:, dtype: object\n",
      "Euklidske  Udaljenosti:  [ 7.87400787  7.87400787]\n",
      "Hammingove Udaljenosti: [ 62.  62.]\n",
      "-------\n",
      "Osoba: malimate\n",
      "Susjedi:  75    Krumpirko\n",
      "45       Zlatan\n",
      "Name: Ime/pseudonim:, dtype: object\n",
      "Euklidske  Udaljenosti:  [ 7.07106781  7.21110255]\n",
      "Hammingove Udaljenosti: [ 50.  52.]\n",
      "-------\n",
      "Osoba: button\n",
      "Susjedi:  81              Filip\n",
      "54    Jan Tomljanović\n",
      "Name: Ime/pseudonim:, dtype: object\n",
      "Euklidske  Udaljenosti:  [ 8.         8.1240384]\n",
      "Hammingove Udaljenosti: [ 64.  66.]\n",
      "-------\n",
      "Osoba: Jantol\n",
      "Susjedi:  79    Spidey\n",
      "92    Pandza\n",
      "Name: Ime/pseudonim:, dtype: object\n",
      "Euklidske  Udaljenosti:  [ 7.07106781  7.07106781]\n",
      "Hammingove Udaljenosti: [ 50.  50.]\n",
      "-------\n",
      "Osoba: Gljiva\n",
      "Susjedi:  88    Vicky\n",
      "24    Dario\n",
      "Name: Ime/pseudonim:, dtype: object\n",
      "Euklidske  Udaljenosti:  [ 6.4807407  6.4807407]\n",
      "Hammingove Udaljenosti: [ 42.  42.]\n",
      "-------\n",
      "Osoba: Flige\n",
      "Susjedi:  56    malimate\n",
      "90         Sly\n",
      "Name: Ime/pseudonim:, dtype: object\n",
      "Euklidske  Udaljenosti:  [ 7.21110255  7.34846923]\n",
      "Hammingove Udaljenosti: [ 52.  54.]\n",
      "-------\n",
      "Osoba: Marluk\n",
      "Susjedi:  75    Krumpirko\n",
      "29        Filip\n",
      "Name: Ime/pseudonim:, dtype: object\n",
      "Euklidske  Udaljenosti:  [ 6.63324958  6.78232998]\n",
      "Hammingove Udaljenosti: [ 44.  46.]\n",
      "-------\n",
      "Osoba: betelgeuse\n",
      "Susjedi:  54    Jan Tomljanović\n",
      "35               pepi\n",
      "Name: Ime/pseudonim:, dtype: object\n",
      "Euklidske  Udaljenosti:  [ 7.48331477  7.48331477]\n",
      "Hammingove Udaljenosti: [ 56.  56.]\n",
      "-------\n",
      "Osoba: Frantic\n",
      "Susjedi:  86    mislav\n",
      "42       Kec\n",
      "Name: Ime/pseudonim:, dtype: object\n",
      "Euklidske  Udaljenosti:  [ 7.07106781  7.21110255]\n",
      "Hammingove Udaljenosti: [ 50.  52.]\n",
      "-------\n",
      "Osoba: Antiša\n",
      "Susjedi:  21         maslačak\n",
      "2     Ivan Dundović\n",
      "Name: Ime/pseudonim:, dtype: object\n",
      "Euklidske  Udaljenosti:  [ 7.21110255  7.34846923]\n",
      "Hammingove Udaljenosti: [ 52.  54.]\n",
      "-------\n",
      "Osoba: Lik\n",
      "Susjedi:  29    Filip\n",
      "11     Ante\n",
      "Name: Ime/pseudonim:, dtype: object\n",
      "Euklidske  Udaljenosti:  [ 7.61577311  7.61577311]\n",
      "Hammingove Udaljenosti: [ 58.  58.]\n",
      "-------\n",
      "Osoba: Paula\n",
      "Susjedi:  75    Krumpirko\n",
      "26    porcupine\n",
      "Name: Ime/pseudonim:, dtype: object\n",
      "Euklidske  Udaljenosti:  [ 7.48331477  7.61577311]\n",
      "Hammingove Udaljenosti: [ 56.  58.]\n",
      "-------\n",
      "Osoba: Lambda\n",
      "Susjedi:  34    mirkov pseudonim\n",
      "44                  DF\n",
      "Name: Ime/pseudonim:, dtype: object\n",
      "Euklidske  Udaljenosti:  [ 8.24621125  8.24621125]\n",
      "Hammingove Udaljenosti: [ 68.  68.]\n",
      "-------\n",
      "Osoba: Atila Bič Božji\n",
      "Susjedi:  24         Dario\n",
      "70    Abed Nadir\n",
      "Name: Ime/pseudonim:, dtype: object\n",
      "Euklidske  Udaljenosti:  [ 7.21110255  7.21110255]\n",
      "Hammingove Udaljenosti: [ 52.  52.]\n",
      "-------\n",
      "Osoba: Gostionicarka Mirandolina\n",
      "Susjedi:  54    Jan Tomljanović\n",
      "79             Spidey\n",
      "Name: Ime/pseudonim:, dtype: object\n",
      "Euklidske  Udaljenosti:  [ 7.61577311  7.74596669]\n",
      "Hammingove Udaljenosti: [ 58.  60.]\n",
      "-------\n",
      "Osoba: Abed Nadir\n",
      "Susjedi:  68    Atila Bič Božji\n",
      "24              Dario\n",
      "Name: Ime/pseudonim:, dtype: object\n",
      "Euklidske  Udaljenosti:  [ 7.21110255  7.48331477]\n",
      "Hammingove Udaljenosti: [ 52.  56.]\n",
      "-------\n",
      "Osoba: Igor\n",
      "Susjedi:  87    Kemi\n",
      "22     Tin\n",
      "Name: Ime/pseudonim:, dtype: object\n",
      "Euklidske  Udaljenosti:  [ 7.74596669  8.        ]\n",
      "Hammingove Udaljenosti: [ 60.  64.]\n",
      "-------\n",
      "Osoba: Petar!!!!!!\n",
      "Susjedi:  16          ja\n",
      "56    malimate\n",
      "Name: Ime/pseudonim:, dtype: object\n",
      "Euklidske  Udaljenosti:  [ 7.07106781  7.21110255]\n",
      "Hammingove Udaljenosti: [ 50.  52.]\n",
      "-------\n",
      "Osoba: Goga\n",
      "Susjedi:  7          nordlys\n",
      "3    Vinkovic Tomo\n",
      "Name: Ime/pseudonim:, dtype: object\n",
      "Euklidske  Udaljenosti:  [ 8.1240384   8.24621125]\n",
      "Hammingove Udaljenosti: [ 66.  68.]\n",
      "-------\n",
      "Osoba: Pavle\n",
      "Susjedi:  94             Luka\n",
      "0     Zdravko Mamic\n",
      "Name: Ime/pseudonim:, dtype: object\n",
      "Euklidske  Udaljenosti:  [ 7.34846923  7.74596669]\n",
      "Hammingove Udaljenosti: [ 54.  60.]\n",
      "-------\n",
      "Osoba: Krumpirko\n",
      "Susjedi:  61    Marluk\n",
      "59    Gljiva\n",
      "Name: Ime/pseudonim:, dtype: object\n",
      "Euklidske  Udaljenosti:  [ 6.63324958  6.78232998]\n",
      "Hammingove Udaljenosti: [ 44.  46.]\n",
      "-------\n",
      "Osoba: Ivan S.\n",
      "Susjedi:  77    Ivan Paljak\n",
      "56       malimate\n",
      "Name: Ime/pseudonim:, dtype: object\n",
      "Euklidske  Udaljenosti:  [ 7.34846923  7.48331477]\n",
      "Hammingove Udaljenosti: [ 54.  56.]\n",
      "-------\n",
      "Osoba: Ivan Paljak\n",
      "Susjedi:  24    Dario\n",
      "29    Filip\n",
      "Name: Ime/pseudonim:, dtype: object\n",
      "Euklidske  Udaljenosti:  [ 7.21110255  7.34846923]\n",
      "Hammingove Udaljenosti: [ 52.  54.]\n",
      "-------\n",
      "Osoba: Pseudonim\n",
      "Susjedi:  81     Filip\n",
      "45    Zlatan\n",
      "Name: Ime/pseudonim:, dtype: object\n",
      "Euklidske  Udaljenosti:  [ 8.1240384  8.1240384]\n",
      "Hammingove Udaljenosti: [ 66.  66.]\n",
      "-------\n",
      "Osoba: Spidey\n",
      "Susjedi:  61     Marluk\n",
      "14    Chiraox\n",
      "Name: Ime/pseudonim:, dtype: object\n",
      "Euklidske  Udaljenosti:  [ 6.78232998  6.92820323]\n",
      "Hammingove Udaljenosti: [ 46.  48.]\n",
      "-------\n",
      "Osoba: Reuf Ramon\n",
      "Susjedi:  90       Sly\n",
      "92    Pandza\n",
      "Name: Ime/pseudonim:, dtype: object\n",
      "Euklidske  Udaljenosti:  [ 8.24621125  8.36660027]\n",
      "Hammingove Udaljenosti: [ 68.  70.]\n",
      "-------\n",
      "Osoba: Filip\n",
      "Susjedi:  31    dumdum\n",
      "23        tp\n",
      "Name: Ime/pseudonim:, dtype: object\n",
      "Euklidske  Udaljenosti:  [ 7.07106781  7.21110255]\n",
      "Hammingove Udaljenosti: [ 50.  52.]\n",
      "-------\n",
      "Osoba: Muskarac23\n",
      "Susjedi:  75    Krumpirko\n",
      "26    porcupine\n",
      "Name: Ime/pseudonim:, dtype: object\n",
      "Euklidske  Udaljenosti:  [ 7.34846923  7.48331477]\n",
      "Hammingove Udaljenosti: [ 54.  56.]\n",
      "-------\n",
      "Osoba: Zrinka \n",
      "Susjedi:  0     Zdravko Mamic\n",
      "52              Ojo\n",
      "Name: Ime/pseudonim:, dtype: object\n",
      "Euklidske  Udaljenosti:  [ 7.61577311  8.1240384 ]\n",
      "Hammingove Udaljenosti: [ 58.  66.]\n",
      "-------\n",
      "Osoba: znj\n",
      "Susjedi:  9     Taylor Bagley\n",
      "87             Kemi\n",
      "Name: Ime/pseudonim:, dtype: object\n",
      "Euklidske  Udaljenosti:  [ 7.61577311  8.1240384 ]\n",
      "Hammingove Udaljenosti: [ 58.  66.]\n",
      "-------\n",
      "Osoba: limp bizkit\n",
      "Susjedi:  11    Ante\n",
      "42     Kec\n",
      "Name: Ime/pseudonim:, dtype: object\n",
      "Euklidske  Udaljenosti:  [ 6.92820323  7.34846923]\n",
      "Hammingove Udaljenosti: [ 48.  54.]\n",
      "-------\n",
      "Osoba: mislav\n",
      "Susjedi:  63    Frantic\n",
      "81      Filip\n",
      "Name: Ime/pseudonim:, dtype: object\n",
      "Euklidske  Udaljenosti:  [ 7.07106781  7.21110255]\n",
      "Hammingove Udaljenosti: [ 50.  52.]\n",
      "-------\n",
      "Osoba: Kemi\n",
      "Susjedi:  79    Spidey\n",
      "61    Marluk\n",
      "Name: Ime/pseudonim:, dtype: object\n",
      "Euklidske  Udaljenosti:  [ 7.21110255  7.34846923]\n",
      "Hammingove Udaljenosti: [ 52.  54.]\n",
      "-------\n",
      "Osoba: Vicky\n",
      "Susjedi:  59    Gljiva\n",
      "42       Kec\n",
      "Name: Ime/pseudonim:, dtype: object\n",
      "Euklidske  Udaljenosti:  [ 6.4807407   6.92820323]\n",
      "Hammingove Udaljenosti: [ 42.  48.]\n",
      "-------\n",
      "Osoba: kale\n",
      "Susjedi:  0     Zdravko Mamic\n",
      "63          Frantic\n",
      "Name: Ime/pseudonim:, dtype: object\n",
      "Euklidske  Udaljenosti:  [ 6.63324958  7.61577311]\n",
      "Hammingove Udaljenosti: [ 44.  58.]\n",
      "-------\n",
      "Osoba: Sly\n",
      "Susjedi:  60         Flige\n",
      "39    netkonesto\n",
      "Name: Ime/pseudonim:, dtype: object\n",
      "Euklidske  Udaljenosti:  [ 7.34846923  7.48331477]\n",
      "Hammingove Udaljenosti: [ 54.  56.]\n",
      "-------\n",
      "Osoba: rela\n",
      "Susjedi:  17       musketir\n",
      "77    Ivan Paljak\n",
      "Name: Ime/pseudonim:, dtype: object\n",
      "Euklidske  Udaljenosti:  [ 6.92820323  7.34846923]\n",
      "Hammingove Udaljenosti: [ 48.  54.]\n",
      "-------\n",
      "Osoba: Pandza\n",
      "Susjedi:  58       Jantol\n",
      "20    neznamsad\n",
      "Name: Ime/pseudonim:, dtype: object\n",
      "Euklidske  Udaljenosti:  [ 7.07106781  7.21110255]\n",
      "Hammingove Udaljenosti: [ 50.  52.]\n",
      "-------\n",
      "Osoba: bla \n",
      "Susjedi:  25    765100\n",
      "45    Zlatan\n",
      "Name: Ime/pseudonim:, dtype: object\n",
      "Euklidske  Udaljenosti:  [ 7.34846923  7.34846923]\n",
      "Hammingove Udaljenosti: [ 54.  54.]\n",
      "-------\n",
      "Osoba: Luka\n",
      "Susjedi:  75    Krumpirko\n",
      "21     maslačak\n",
      "Name: Ime/pseudonim:, dtype: object\n",
      "Euklidske  Udaljenosti:  [ 7.21110255  7.21110255]\n",
      "Hammingove Udaljenosti: [ 52.  52.]\n",
      "-------\n",
      "Osoba: MaliPrinc\n",
      "Susjedi:  33       zmajo\n",
      "21    maslačak\n",
      "Name: Ime/pseudonim:, dtype: object\n",
      "Euklidske  Udaljenosti:  [ 6.4807407   7.74596669]\n",
      "Hammingove Udaljenosti: [ 42.  60.]\n",
      "-------\n",
      "Osoba: Jakov Ivančan\n",
      "Susjedi:  26           porcupine\n",
      "34    mirkov pseudonim\n",
      "Name: Ime/pseudonim:, dtype: object\n",
      "Euklidske  Udaljenosti:  [ 7.48331477  7.48331477]\n",
      "Hammingove Udaljenosti: [ 56.  56.]\n",
      "-------\n",
      "Osoba: nan\n",
      "Susjedi:  61    Marluk\n",
      "87      Kemi\n",
      "Name: Ime/pseudonim:, dtype: object\n",
      "Euklidske  Udaljenosti:  [ 7.48331477  7.87400787]\n",
      "Hammingove Udaljenosti: [ 56.  62.]\n",
      "-------\n",
      "Osoba: Tomy\n",
      "Susjedi:  55      Josip U\n",
      "26    porcupine\n",
      "Name: Ime/pseudonim:, dtype: object\n",
      "Euklidske  Udaljenosti:  [ 7.87400787  8.        ]\n",
      "Hammingove Udaljenosti: [ 62.  64.]\n",
      "-------\n"
     ]
    }
   ],
   "source": [
    "from sklearn.neighbors import NearestNeighbors\n",
    "k=2\n",
    "nn=NearestNeighbors(metric='euclidean',n_neighbors=k)\n",
    "hn=NearestNeighbors(metric='hamming',n_neighbors=k)\n",
    "nn.fit(q101oh)\n",
    "hn.fit(q101oh)\n",
    "dists_e,indices_e=nn.kneighbors()\n",
    "dists_h,indices_h=hn.kneighbors()\n",
    "for i,x in enumerate(q101oh.get_values()):\n",
    "    print(\"Osoba:\",imena[i])\n",
    "    print(\"Susjedi: \",imena[indices_e[i]])\n",
    "    print(\"Euklidske  Udaljenosti: \",dists_e[i])\n",
    "    print(\"Hammingove Udaljenosti:\",dists_h[i]*198)\n",
    "    print(\"-------\")"
   ]
  },
  {
   "cell_type": "markdown",
   "metadata": {},
   "source": [
    "### (c)\n",
    "\n",
    "Za kategoričke se značajke nerijetko kao mjera udaljenosti koristi [Hammingova udaljenost](https://en.wikipedia.org/wiki/Hamming_distance). Ponovite izračun susjeda za sve primjere iz skupa q101 pomoću Hammingove udaljenosti te usporedite rezultate s onima koje ste dobili s euklidskom udaljenošću."
   ]
  },
  {
   "cell_type": "markdown",
   "metadata": {},
   "source": [
    "**Q:** Razlikuju li se rezultati? Razlikuje li se euklidska udaljenost od Hammingove za pojedinačne parove primjera iz skupa q101 (provjerite)? Obrazložite."
   ]
  },
  {
   "cell_type": "markdown",
   "metadata": {},
   "source": [
    "### (d)\n",
    "\n",
    "Želimo predvidjeti odgovore na neka pitanja na temelju poznatih odgovora na neka druga pitanja. Predikciju ćemo ostvariti algoritmom k-nn, što zapravo znači da će se predviđanje odvijati tako da će se za poznate odgovore na pitanja najprije pronaći studenti koji su na sličan način odgovorili na ta pitanja (susjedi), a onda će se predikcija izračunati kao njihov većinski odgovor. Odgovore na prvih 49 pitanja koristit ćemo kao poznate odgovore, te pomoću njih pokušati predvidjeti odgovore na ostala 49 pitanja.\n",
    "\n",
    "Skup q101, binariziran na način kako je opisano u dijelu (a), podijelite po stupcima u dvije polovice (svaka po 49 značajki): prvu polovicu koristit ćemo kao značajke (poznati odgovori), a drugu polovicu čine odgovori koje ćemo pokušati predvidjeti (nepoznati odgovori). Oba ova skupa podijelite na skupove za učenje i ispitivanje u omjeru 7:3."
   ]
  },
  {
   "cell_type": "markdown",
   "metadata": {},
   "source": [
    "Za svaki od 49 nepoznatih odgovora, trenirajte po jedan k-nn klasifikator na 49 poznatih odogovora. Klasifikatore naravno trenirajte na skupu za učenje i ispitajte na skupu za ispitivanje. Paralelno s time, za svaki od 49 nepoznatih odgovora trenirajte i po jedan referentni klasifikator, koji će sve primjere jednostavno klasificirati u najčešću klasu za dotično pitanje. U tu svrhu iskoristite model [`sklearn.dummy.DummyClassifier`](http://scikit-learn.org/stable/modules/generated/sklearn.dummy.DummyClassifier.html). Sada za svaki od 49 nepoznatih odgovora ispišite točnost klasifikatora k-nn, točnost referentnog klasifikatora te razliku između njih. Dodatno, za svako pitanje ispišite i dva ponuđena odgovora, kako bismo mogli vidjeti za koja to pitanja klasifikator radi dobro."
   ]
  },
  {
   "cell_type": "code",
   "execution_count": 45,
   "metadata": {
    "collapsed": false
   },
   "outputs": [
    {
     "name": "stdout",
     "output_type": "stream",
     "text": [
      "Ponuđeno:  Q26_Sladoled Q26_Torta\n",
      "0.7 0.533333333333 0.166666666667\n",
      "Ponuđeno:  Q27_Iran Q27_Palestina\n",
      "0.833333333333 0.7 0.133333333333\n",
      "Ponuđeno:  Q28_Arial Q28_Times New Roman\n",
      "0.766666666667 0.766666666667 0.0\n",
      "Ponuđeno:  Q29_50 cent Q29_TBF\n",
      "0.566666666667 0.4 0.166666666667\n",
      "Ponuđeno:  Q30_Rolling Stones Q30_The Beatles\n",
      "0.566666666667 0.366666666667 0.2\n",
      "Ponuđeno:  Q31_Jodie Foster Q31_Leonardo di Caprio\n",
      "0.933333333333 0.933333333333 0.0\n",
      "Ponuđeno:  Q32_Avion Q32_Vlak\n",
      "0.633333333333 0.633333333333 0.0\n",
      "Ponuđeno:  Q33_Novac Q33_Sreća\n",
      "0.633333333333 0.4 0.233333333333\n",
      "Ponuđeno:  Q34_Nedjelja Q34_Subota\n",
      "0.566666666667 0.4 0.166666666667\n",
      "Ponuđeno:  Q35_Jabuka Q35_Čokolada\n",
      "0.866666666667 0.866666666667 0.0\n",
      "Ponuđeno:  Q36_Njemačka Q36_UK\n",
      "0.666666666667 0.6 0.0666666666667\n",
      "Ponuđeno:  Q37_Plivanje Q37_Ronjenje\n",
      "0.933333333333 0.933333333333 0.0\n",
      "Ponuđeno:  Q38_Orada Q38_Piletina\n",
      "0.566666666667 0.433333333333 0.133333333333\n",
      "Ponuđeno:  Q39_Nova TV Q39_RTL Televizija\n",
      "0.9 0.633333333333 0.266666666667\n",
      "Ponuđeno:  Q40_Joga Q40_Teretana\n",
      "0.7 0.4 0.3\n",
      "Ponuđeno:  Q41_Povratak Filipa Latinovića Q41_U registraturi\n",
      "0.666666666667 0.633333333333 0.0333333333333\n",
      "Ponuđeno:  Q42_Coca Cola Q42_Pepsi\n",
      "0.8 0.666666666667 0.133333333333\n",
      "Ponuđeno:  Q43_Android Q43_iPhone\n",
      "0.633333333333 0.5 0.133333333333\n",
      "Ponuđeno:  Q44_Bach Q44_Beethoven\n",
      "0.6 0.666666666667 -0.0666666666667\n",
      "Ponuđeno:  Q45_Dinamo Q45_Hajduk\n",
      "0.666666666667 0.566666666667 0.1\n",
      "Ponuđeno:  Q46_Josipović Q46_Mesić\n",
      "0.666666666667 0.6 0.0666666666667\n",
      "Ponuđeno:  Q47_Levi's Q47_Replay\n",
      "0.466666666667 0.366666666667 0.1\n",
      "Ponuđeno:  Q48_Kapitalizam Q48_Socijalizam\n",
      "0.733333333333 0.7 0.0333333333333\n",
      "Ponuđeno:  Q49_Brač Q49_Hvar\n",
      "0.866666666667 0.7 0.166666666667\n",
      "Ponuđeno:  Q50_Upaljač Q50_Šibice\n",
      "0.8 0.733333333333 0.0666666666667\n",
      "Ponuđeno:  Q51_Dubrovnik Q51_Pula\n",
      "0.6 0.666666666667 -0.0666666666667\n",
      "Ponuđeno:  Q52_Dolar Q52_Euro\n",
      "0.566666666667 0.666666666667 -0.1\n",
      "Ponuđeno:  Q53_Nogomet Q53_Rugby\n",
      "0.933333333333 0.8 0.133333333333\n",
      "Ponuđeno:  Q54_Konzum Q54_Lidl\n",
      "0.733333333333 0.533333333333 0.2\n",
      "Ponuđeno:  Q55_Tele2 Q55_Tomato\n",
      "0.333333333333 0.4 -0.0666666666667\n",
      "Ponuđeno:  Q56_Latinica Q56_Ćirilica\n",
      "0.7 0.733333333333 -0.0333333333333\n",
      "Ponuđeno:  Q58_Griz Q58_Čokolino\n",
      "0.666666666667 0.6 0.0666666666667\n",
      "Ponuđeno:  Q59_David Bowie Q59_Elton John\n",
      "0.5 0.533333333333 -0.0333333333333\n",
      "Ponuđeno:  Q60_Obama Q60_Putin\n",
      "0.8 0.733333333333 0.0666666666667\n",
      "Ponuđeno:  Q61_Google Chrome Q61_Microsoft IE\n",
      "0.533333333333 0.6 -0.0666666666667\n",
      "Ponuđeno:  Q62_August Šenoa Q62_Petar Preradović\n",
      "0.833333333333 0.766666666667 0.0666666666667\n",
      "Ponuđeno:  Q63_Google Q63_Yahoo\n",
      "0.4 0.5 -0.1\n",
      "Ponuđeno:  Q64_Ne volim grožđice Q64_Volim grožđice\n",
      "0.833333333333 0.733333333333 0.1\n",
      "Ponuđeno:  Q65_Ljetovanje Q65_Skijanje\n",
      "0.633333333333 0.7 -0.0666666666667\n",
      "Ponuđeno:  Q66_Film Q66_Knjiga\n",
      "0.766666666667 0.7 0.0666666666667\n",
      "Ponuđeno:  Q67_Bicikl Q67_Motor\n",
      "0.7 0.633333333333 0.0666666666667\n",
      "Ponuđeno:  Q68_Povrće Q68_Voće\n",
      "0.566666666667 0.466666666667 0.1\n",
      "Ponuđeno:  Q69_Mladost Q69_Sloboda\n",
      "0.733333333333 0.4 0.333333333333\n",
      "Ponuđeno:  Q70_Ne volim masline Q70_Volim masline\n",
      "0.9 0.8 0.1\n",
      "Ponuđeno:  Q71_Lasagne Q71_Pizza\n",
      "0.566666666667 0.533333333333 0.0333333333333\n",
      "Ponuđeno:  Q72_Dan Q72_Noć\n",
      "0.7 0.633333333333 0.0666666666667\n",
      "Ponuđeno:  Q73_Kava Q73_Čaj\n",
      "0.533333333333 0.566666666667 -0.0333333333333\n",
      "Ponuđeno:  Q74_Irska Q74_Škotska\n",
      "0.733333333333 0.4 0.333333333333\n",
      "Ponuđeno:  Q75_Umjetnost Q75_Znanost\n",
      "0.6 0.566666666667 0.0333333333333\n"
     ]
    }
   ],
   "source": [
    "from sklearn.dummy import DummyClassifier\n",
    "dummy=DummyClassifier()\n",
    "clf.n_neighbours=5\n",
    "X_binary=q101oh.get_values()\n",
    "X_train, X_test, Y_train, Y_test = train_test_split(X_binary[:, 0:99], X_binary[:, 99:198], test_size=0.3)\n",
    "\n",
    "for i in range(0,49):\n",
    "    y_train=Y_train[:,i*2]\n",
    "    y_test=Y_test[:,i*2]\n",
    "    clf.fit(X_train,y_train)\n",
    "    dummy.fit(X_train,y_train)\n",
    "    knn_acc=accuracy_score(y_test,clf.predict(X_test))\n",
    "    dummy_acc=accuracy_score(y_test,dummy.predict(X_test))\n",
    "    print(\"Ponuđeno: \",q101oh.axes[1][49+i*2-1],q101oh.axes[1][49+i*2])\n",
    "    print(knn_acc,dummy_acc,knn_acc-dummy_acc)\n",
    "   \n",
    "   "
   ]
  },
  {
   "cell_type": "markdown",
   "metadata": {},
   "source": [
    "**Q:** Za koja pitanja klasifikator radi bolje od referentnog modela?\n",
    "    \n",
    "**Q:** Zašto za dotična pitanja klasifikator radi dobro, a za druga ne?"
   ]
  },
  {
   "cell_type": "markdown",
   "metadata": {},
   "source": [
    "### 6. Stabla odluke"
   ]
  },
  {
   "cell_type": "markdown",
   "metadata": {},
   "source": [
    "U ovom zadatku usredotočit ćemo se na primjenu stabala odluke za problem klasifikacije. Upoznajte se s klasom [`DecisionTreeClassifier`](http://scikit-learn.org/stable/modules/generated/sklearn.tree.DecisionTreeClassifier.html#sklearn.tree.DecisionTreeClassifier). Ako nije rečeno drugačije, koristite pretpostavljene parametre modela. \n",
    "\n",
    "Radit ćemo sa skupom podataka *Titanic*. S obzirom na to da taj skup podataka za neke primjere nema vrijednosti svih atributa, a i da su neki atributi nebrojčani, prvo ga trebamo obraditi."
   ]
  },
  {
   "cell_type": "markdown",
   "metadata": {},
   "source": [
    "### (a)\n",
    "\n",
    "Prvo učitajte skup podataka _Titanic_ i izdvojite samo sljedeće atribute: _Pclass, Sex, Age, SibSp, Parch,_ i _Embarked_. To su značajke s kojima ćemo raditi. Ciljnu klasu predstavlja atribut _Survived_."
   ]
  },
  {
   "cell_type": "code",
   "execution_count": 33,
   "metadata": {
    "collapsed": false
   },
   "outputs": [],
   "source": [
    "import pandas as pd\n",
    "df = pd.read_csv('https://raw.githubusercontent.com/jsnajder/StrojnoUcenje/master/data/titanic-train.csv')\n",
    "\n"
   ]
  },
  {
   "cell_type": "code",
   "execution_count": 34,
   "metadata": {
    "collapsed": true
   },
   "outputs": [],
   "source": [
    "from sklearn.base import TransformerMixin\n",
    "\n",
    "class DataFrameImputer(TransformerMixin):\n",
    "\n",
    "    def __init__(self):\n",
    "        \"\"\"Impute missing values.\n",
    "\n",
    "        Columns of dtype object are imputed with the most frequent value \n",
    "        in column.\n",
    "\n",
    "        Columns of other types are imputed with mean of column.\n",
    "\n",
    "        \"\"\"\n",
    "    def fit(self, X, y=None):\n",
    "\n",
    "        self.fill = pd.Series([X[c].value_counts().index[0]\n",
    "            if X[c].dtype == np.dtype('O') else X[c].mean() for c in X],\n",
    "            index=X.columns)\n",
    "\n",
    "        return self\n",
    "\n",
    "    def transform(self, X, y=None):\n",
    "        return X.fillna(self.fill)"
   ]
  },
  {
   "cell_type": "code",
   "execution_count": 35,
   "metadata": {
    "collapsed": false
   },
   "outputs": [
    {
     "name": "stdout",
     "output_type": "stream",
     "text": [
      "[[3 'male' 22.0 1 0 'S']\n",
      " [1 'female' 38.0 1 0 'C']\n",
      " [3 'female' 26.0 0 0 'S']\n",
      " ..., \n",
      " [3 'female' 29.69911764705882 1 2 'S']\n",
      " [1 'male' 26.0 0 0 'C']\n",
      " [3 'male' 32.0 0 0 'Q']]\n"
     ]
    }
   ],
   "source": [
    "df=DataFrameImputer().fit_transform(df)\n",
    "df1 = df[['Pclass','Sex','Age','SibSp','Parch','Embarked']]\n",
    "ciljna=df[['Survived']]\n",
    "titanic_X=df1.as_matrix()\n",
    "titanic_y=ciljna.as_matrix()\n",
    "print(titanic_X)"
   ]
  },
  {
   "cell_type": "markdown",
   "metadata": {},
   "source": [
    "**Q:** Pogledajte ostale značajke u skupu podataka. Smatrate li da bi bilo dobro uključiti još koju? Zašto?"
   ]
  },
  {
   "cell_type": "markdown",
   "metadata": {},
   "source": [
    "### (b)\n",
    "\n",
    "Koristeći razred [`LabelEncoder`](http://scikit-learn.org/stable/modules/generated/sklearn.preprocessing.LabelEncoder.html) pretvorite nebrojčane atribute _Sex_ i _Embarked_ u numeričke (ovakav pristup moguć je kod stabala odluke, ali inače se koristi [`OneHotEncoder`](http://scikit-learn.org/stable/modules/generated/sklearn.preprocessing.OneHotEncoder.html))."
   ]
  },
  {
   "cell_type": "code",
   "execution_count": 36,
   "metadata": {
    "collapsed": false
   },
   "outputs": [
    {
     "name": "stdout",
     "output_type": "stream",
     "text": [
      "[[3 1 22.0 1 0 2]\n",
      " [1 0 38.0 1 0 0]\n",
      " [3 0 26.0 0 0 2]\n",
      " ..., \n",
      " [3 0 29.69911764705882 1 2 2]\n",
      " [1 1 26.0 0 0 0]\n",
      " [3 1 32.0 0 0 1]]\n"
     ]
    }
   ],
   "source": [
    "from sklearn.preprocessing import LabelEncoder\n",
    "le = LabelEncoder()\n",
    "titanic_X[:,1] = le.fit_transform(titanic_X[:,1])\n",
    "titanic_X[:,-1] = le.fit_transform(titanic_X[:,-1])\n",
    "print(titanic_X)"
   ]
  },
  {
   "cell_type": "markdown",
   "metadata": {},
   "source": [
    "**Q:** Mogli smo koristiti i spomenuti _hot-one encoding_. Zašto to kod stabala odluke često ipak nije najbolja ideja?"
   ]
  },
  {
   "cell_type": "markdown",
   "metadata": {},
   "source": [
    "### (c) \n",
    "\n",
    "U skupu podataka _Titanic_ za neke primjeri nisu poznate vrijednosti svih atributa. Proučite razred [`Imputer`](http://scikit-learn.org/stable/modules/generated/sklearn.preprocessing.Imputer.html) i pomoću njega riješite ovaj problem tako da nedostajuće vrijednosti zamijenite najčešćom vrijednošću dotičnog atributa kroz primjere."
   ]
  },
  {
   "cell_type": "markdown",
   "metadata": {},
   "source": [
    "### (d)\n",
    "\n",
    "Na tako pripremljenome skupu _Titanic_ trenirajte stablo odluke (klasa `DecisionTreeClassifier`). Izgradite dva stabla koristeći dva različita kriterija oabira korijenskog čvora (parametar `criterion`): `entropy` (informacijska dobit) i `gini` (Ginijev indeks). Ispitajte modele na cijelom skupu (istom na kojem ste ih i trenirali) te ispišite točnost modela. Nadalje, član `feature_importances_` sadrži polje kriterijskih vrijednosti za svaki atribut. Ispišite te vrijednosti za oba modela."
   ]
  },
  {
   "cell_type": "code",
   "execution_count": 37,
   "metadata": {
    "collapsed": false
   },
   "outputs": [
    {
     "name": "stdout",
     "output_type": "stream",
     "text": [
      "0.937149270483\n",
      "[ 0.142809    0.28326324  0.3802965   0.09511984  0.05265627  0.04585515]\n",
      "0.937149270483\n",
      "[ 0.13125904  0.36049851  0.32010243  0.09032562  0.05443693  0.04337747]\n"
     ]
    }
   ],
   "source": [
    "from sklearn.tree import DecisionTreeClassifier\n",
    "from sklearn.metrics import accuracy_score\n",
    "dt1=DecisionTreeClassifier(criterion='entropy')\n",
    "dt2=DecisionTreeClassifier(criterion='gini')\n",
    "dt1.fit(titanic_X,titanic_y)\n",
    "dt2.fit(titanic_X,titanic_y)\n",
    "print(accuracy_score(titanic_y,dt1.predict(titanic_X)))\n",
    "print(dt1.feature_importances_)\n",
    "print(accuracy_score(titanic_y,dt2.predict(titanic_X)))\n",
    "print(dt2.feature_importances_)"
   ]
  },
  {
   "cell_type": "markdown",
   "metadata": {},
   "source": [
    "**Q:** Usporedite rezultate modela s kriterijem `entropy` i `gini`. Postoji li razlika? Zašto?\n",
    "\n",
    "**Q:** Zašto pogreška učenja nije jednaka nuli? Bi li to trebala biti?\n",
    "\n",
    "**Q:** Koja značajka je korijenska značajka prema kriteriju `entropy`, a koja prema kriteriju `gini`?"
   ]
  },
  {
   "cell_type": "markdown",
   "metadata": {},
   "source": [
    "### 7. Regularizacija stabala odluke"
   ]
  },
  {
   "cell_type": "markdown",
   "metadata": {},
   "source": [
    "Pri izgradnji stabla odluke vrlo lako može doći do prenaučenosti s obzirom na to da stablo raste dok se svi primjeri za učenje ispravno ne klasificiraju. Jedan od načina sprječavanja prenaučenosti jest zaustavljanje rasta stabla na određenoj dubini. Spomenuto ograničenje regulira se pomoću parametra `max_depth` konstruktora razreda `DecisionTreeClassifier`.\n",
    "\n",
    "Podijelite skup podataka _Titanic_ na skup za učenje i na skup za ispitivanje u omjeru 2:3 korištenjem funkcije [`train_test_split`](http://scikit-learn.org/stable/modules/generated/sklearn.cross_validation.train_test_split.html).\n",
    "\n",
    "Iscrtajte krivulje pogrešaka na skupu za učenje i na skupu za ispitivanje za svaki parametar maksimalne dubine $d$, pri čemu je $d \\in \\{1,2,\\ldots,30\\}$. Koristite Ginijev indeks."
   ]
  },
  {
   "cell_type": "code",
   "execution_count": 38,
   "metadata": {
    "collapsed": false
   },
   "outputs": [
    {
     "data": {
      "image/png": "[encoded data removed]",
      "text/plain": [
       "<matplotlib.figure.Figure at 0xc776e10>"
      ]
     },
     "metadata": {},
     "output_type": "display_data"
    }
   ],
   "source": [
    "from sklearn.cross_validation import train_test_split\n",
    "from sklearn.metrics import zero_one_loss\n",
    "titanic_X_train, titanic_X_test, titanic_y_train, titanic_y_test = train_test_split(titanic_X,titanic_y, test_size=0.4,random_state=15)\n",
    "depths=range(1,31)\n",
    "train_errs=zeros(len(depths))\n",
    "test_errs=zeros(len(depths))\n",
    "for i,depth in enumerate(depths):\n",
    "    dt2.max_depth=depth\n",
    "    dt2.fit(titanic_X_train,titanic_y_train)\n",
    "    train_errs[i]=zero_one_loss(titanic_y_train,dt2.predict(titanic_X_train))\n",
    "    test_errs[i]=zero_one_loss(titanic_y_test,dt2.predict(titanic_X_test))\n",
    "plot(depths,train_errs,label='train')\n",
    "plot(depths,test_errs,label='test')\n",
    "plt.legend()\n",
    "plt.show()"
   ]
  },
  {
   "cell_type": "markdown",
   "metadata": {},
   "source": [
    "**Q:** Na koju biste dubinu ograničili rast stabla i zašto?\n",
    "    \n",
    "**Q:** Kojoj strani u grafikonu odgovara područje prenaučenosti, a kojoj područje podnaučenosti?"
   ]
  },
  {
   "cell_type": "markdown",
   "metadata": {},
   "source": [
    "### 8. Matrice zabune i evaluacijske mjere"
   ]
  },
  {
   "cell_type": "markdown",
   "metadata": {},
   "source": [
    "Kako bismo se uvjerili koliko naš naučeni model zapravo dobro radi, nužno je provesti evaluaciju modela. Ovaj korak od presudne je važnosti u svim primjenama strojnog učenja, pa je stoga bitno znati provesti evaluaciju na ispravan način. Cilj ovog zadatka jest upoznati se s osnovnim evaluacijskim mjerama temeljenima na matrici zabune (engl. *confusion matrix*)."
   ]
  },
  {
   "cell_type": "markdown",
   "metadata": {},
   "source": [
    "Preuzmite Glass Identification Data Set, koji opisuje rezultate kemijske analize 214 stakala. Riječ je o klasifikacijskom problemu sa šest klasa: na temelju 9 kemijskih značajki stakla potrebno je, u svrhu forenzičke analize, odrediti o kojoj se od šest vrsta stakla radi. Skup podataka možete učitati na sljedeći način:"
   ]
  },
  {
   "cell_type": "code",
   "execution_count": 39,
   "metadata": {
    "collapsed": false
   },
   "outputs": [],
   "source": [
    "data = sp.loadtxt(\"D:\\strojno\\glass.data\", delimiter=',')\n",
    "glass_X, glass_y = data[:,1:10], data[:,10]"
   ]
  },
  {
   "cell_type": "markdown",
   "metadata": {},
   "source": [
    "Ovaj skup podataka ne sadrži nenumeričke atribute niti nedostajuće vrijednosti, stoga ne treba raditi nikakvu obradu. Podijelite skup primjera na skup za učenje i na skup za ispitivanju u omjeru 2:3 (koristite funkciju `train_test_split`). Izgradite stablo odluke na temelju dobivenog skupa za učenje."
   ]
  },
  {
   "cell_type": "code",
   "execution_count": 40,
   "metadata": {
    "collapsed": false
   },
   "outputs": [
    {
     "name": "stdout",
     "output_type": "stream",
     "text": [
      "(214, 9)\n",
      "(214,)\n",
      "(128, 9)\n"
     ]
    }
   ],
   "source": [
    "print(glass_X.shape)\n",
    "print(glass_y.shape)\n",
    "gX_train,gX_test,gy_train,gy_test= train_test_split(glass_X,glass_y, test_size=0.4,random_state=15)\n",
    "print(gX_train.shape)"
   ]
  },
  {
   "cell_type": "markdown",
   "metadata": {},
   "source": [
    "### (a)\n",
    "\n",
    "Definirajte funkciju `create_confusion_matrix(y_true, y_pred)` koja generira matricu zabune dimenzija $K\\times K$, gdje je $K$ broj klasa. Funkcija prima stvarne oznake primjera (`y_true`) i oznake predikcije modela (`y_pred`) te vraća (1) matricu zabune i (2) polje oznaka klasa (gdje su klase poredane onako kako su poredane u matrici zabune). Retci matrice neka odgovaraju stvarnim oznakama (true), a stupci predikcijama modela (pred)."
   ]
  },
  {
   "cell_type": "code",
   "execution_count": 80,
   "metadata": {
    "collapsed": false
   },
   "outputs": [
    {
     "name": "stdout",
     "output_type": "stream",
     "text": [
      "[[21  5  2  0  0  0]\n",
      " [ 6 20  4  1  1  0]\n",
      " [ 4  1  0  0  0  0]\n",
      " [ 0  0  0  3  0  1]\n",
      " [ 0  0  0  3  1  0]\n",
      " [ 1  0  0  0  1 11]] [1.0, 2.0, 3.0, 5.0, 6.0, 7.0]\n"
     ]
    },
    {
     "data": {
      "text/plain": [
       "array([[21,  5,  2,  0,  0,  0],\n",
       "       [ 6, 20,  4,  1,  1,  0],\n",
       "       [ 4,  1,  0,  0,  0,  0],\n",
       "       [ 0,  0,  0,  3,  0,  1],\n",
       "       [ 0,  0,  0,  3,  1,  0],\n",
       "       [ 1,  0,  0,  0,  1, 11]])"
      ]
     },
     "execution_count": 80,
     "metadata": {},
     "output_type": "execute_result"
    }
   ],
   "source": [
    "def create_confusion_matrix(y_true,y_pred):\n",
    "    labels=list(np.unique(y_true))\n",
    "    K=len(labels)\n",
    "    matrix=np.zeros((K,K),dtype=int)\n",
    "    for yt,yp in zip(y_true,y_pred):\n",
    "           matrix[labels.index(yt),labels.index(yp)]+=1\n",
    "    return (matrix,labels)\n",
    "\n",
    "dt2.fit(gX_train,gy_train)\n",
    "cm,l=create_confusion_matrix(gy_test,dt2.predict(gX_test))\n",
    "print(cm,l)\n",
    "sklearn.metrics.confusion_matrix(gy_test,dt2.predict(gX_test))\n"
   ]
  },
  {
   "cell_type": "markdown",
   "metadata": {},
   "source": [
    "Izračunajte i ispišite matricu zabune za stablo odluke na ispitnome dijelu skupa `glass`. Uvjerite se da vaša implementacija radi jednako kao funkcija [`sklearn.metrics.confusion_matrix`](http://scikit-learn.org/stable/modules/generated/sklearn.metrics.confusion_matrix.html)."
   ]
  },
  {
   "cell_type": "markdown",
   "metadata": {},
   "source": [
    "**Q:** Koja je klasa najbrojnija?\n",
    "    \n",
    "**Q:** Koja klasa ima najviše pogrešnih pozitivnih klasifikacija (false positives), a koja najviše pogrešnih negativnih klasifikacija (false negatives)?"
   ]
  },
  {
   "cell_type": "code",
   "execution_count": 111,
   "metadata": {
    "collapsed": false
   },
   "outputs": [
    {
     "name": "stdout",
     "output_type": "stream",
     "text": [
      "Najbrojnija klasa:  2.0\n",
      "Fns po klasama:  [ 7 12  5  1  3  2]\n",
      "Fps po klasama:  [11  6  6  4  2  1]\n"
     ]
    }
   ],
   "source": [
    "print('Najbrojnija klasa: ',l[argmax(sum(cm,axis=1))])\n",
    "\n",
    "def falses(ccm):\n",
    "    cm=ccm.copy()\n",
    "    cm[np.eye(cm.shape[0])==1]=0\n",
    "    falseNegatives=sum(cm,axis=1)\n",
    "    falsePositives=sum(cm,axis=0)\n",
    "    return (falseNegatives,falsePositives)\n",
    "\n",
    "fn,fp=falses(cm)\n",
    "print(\"Fns po klasama: \",fn)\n",
    "print(\"Fps po klasama: \",fp)"
   ]
  },
  {
   "cell_type": "markdown",
   "metadata": {},
   "source": [
    "### (b)\n",
    "\n",
    "Definirajte funkciju `twoway_confusion_matrix(cm, i)` koja prima matricu zabune `cm` dimenzija $K\\times K$ i indeks klase $i$ te izračunava binarnu matricu zabune za klasu $i$ kao pozitivnu klasu."
   ]
  },
  {
   "cell_type": "code",
   "execution_count": 200,
   "metadata": {
    "collapsed": false
   },
   "outputs": [
    {
     "name": "stdout",
     "output_type": "stream",
     "text": [
      "Matrica zabune za klasu 1 :\n",
      " [[21  7]\n",
      " [11 47]]\n",
      "Matrica zabune za klasu 2 :\n",
      " [[20 12]\n",
      " [ 6 48]]\n",
      "Matrica zabune za klasu 3 :\n",
      " [[ 0  5]\n",
      " [ 6 75]]\n",
      "Matrica zabune za klasu 5 :\n",
      " [[ 3  1]\n",
      " [ 4 78]]\n",
      "Matrica zabune za klasu 6 :\n",
      " [[ 1  3]\n",
      " [ 2 80]]\n",
      "Matrica zabune za klasu 7 :\n",
      " [[11  2]\n",
      " [ 1 72]]\n"
     ]
    }
   ],
   "source": [
    "def twoway_confusion_matrix(ccm,i,labels):\n",
    "    cm=ccm.copy()\n",
    "    i=labels.index(i)\n",
    "    diag=np.diagonal(cm)\n",
    "    tp=diag[i]\n",
    "    fn=sum(cm[i,:])-tp\n",
    "    fp=sum(cm[:,i])-tp\n",
    "    tn=sum(cm)-tp-fn-fp\n",
    "    return np.array([[tp,fn],[fp,tn]])\n",
    "    \n",
    "    \n",
    "for i in [1,2,3,5,6,7]:\n",
    "    print(\"Matrica zabune za klasu\",i,\":\\n\",twoway_confusion_matrix(cm,i,l))"
   ]
  },
  {
   "cell_type": "markdown",
   "metadata": {},
   "source": [
    "Izračunajte i ispišite binarne matrice zabune za svih 6 klasa iz skupa `glass`."
   ]
  },
  {
   "cell_type": "markdown",
   "metadata": {},
   "source": [
    "### (c)\n",
    "\n",
    "Pomoću funkcija iz (a) i (b) dijela zadatka, definirajte funkcije `accuracy`, `precision`, `recall` i `f1` za izračun točnosti, preciznosti, odziva odnosno F1-mjere. Svaka od ovih funkcija uzima kao argumente stvarne oznake primjera `y_true` i predviđene oznake `y_pred`. Funkcije trebaju izračunavati mikro i makro varijante ovih mjera, što se određuje opcijom `averaging=micro` odnosno `averaging=macro` (podrazumijevana vrijednost).\n",
    "\n",
    "Izračunajte vrijednosti ovih evaluacijskih mjera na skupu `glass`. Uvjerite da vaša implementacija daje identične rezultate kao funkcije iz paketa [`metrics`](http://scikit-learn.org/stable/modules/classes.html#module-sklearn.metrics). Ove funkcije pretpostavljaju makro-mjere, osim one za F1 koja može primiti i parametar koji definira hoće li se izračunati mikro ili makro vrijednost."
   ]
  },
  {
   "cell_type": "markdown",
   "metadata": {},
   "source": [
    "**Q:** Usporedite mikro-F1 i makro-F1. Koja je vrijednost veća? Je li to očekivano i zašto?\n",
    "\n",
    "**Q:** Koji je odnos između mjera preciznosti, odziva i F1-mjere? Može li F1-mjera biti veća od preciznosti ili odziva? Obrazložite.\n",
    "\n",
    "**Q:** Zašto su vrijednosti mikro-preciznosti, mikro-odziva i mikro-F1 identične? Hoće li to uvijek biti slučaj?"
   ]
  },
  {
   "cell_type": "code",
   "execution_count": 212,
   "metadata": {
    "collapsed": false
   },
   "outputs": [
    {
     "name": "stdout",
     "output_type": "stream",
     "text": [
      "Mikro\n",
      "Odziv:  0.651162790698\n",
      "0.651162790698\n",
      "Točnost:  0.883720930233\n",
      "F1:  0.651162790698\n",
      "Makro\n",
      "Odziv:  0.536858974359\n",
      "Preciznost:  0.517342032967\n",
      "Točnost:  0.651162790698\n",
      "F1:  0.516804000597\n"
     ]
    }
   ],
   "source": [
    "from sklearn.metrics import recall_score\n",
    "from sklearn.metrics import precision_score\n",
    "from sklearn.metrics import accuracy_score\n",
    "from sklearn.metrics import f1_score\n",
    "def micro_matrix(cm,labels):\n",
    "    sumM=np.zeros((2,2))\n",
    "    for label in labels:\n",
    "        m=twoway_confusion_matrix(cm,label,labels)\n",
    "        sumM=sumM+m\n",
    "    sumM=sumM/len(labels)\n",
    "    return sumM\n",
    "\n",
    "def recall(y_true,y_pred,averaging='macro'):\n",
    "    cm,labels=create_confusion_matrix(y_true,y_pred)\n",
    "    if averaging=='micro':\n",
    "        #sumM=macro_matrix(cm,labels)\n",
    "        #tp=sumM[0,0]\n",
    "        #fn=sumM[0,1]\n",
    "        #print(tp,fp)\n",
    "        tp=sum(cm.diagonal())\n",
    "        fn=sum(cm)-tp\n",
    "        return tp/(tp+fn)\n",
    "    if averaging=='macro':\n",
    "        re=0\n",
    "        for label in labels:\n",
    "            m=twoway_confusion_matrix(cm,label,labels)\n",
    "            re=re+(m[0,0]/(m[0,0]+m[0,1]))\n",
    "        return re/len(labels)\n",
    "\n",
    "\n",
    "def precision(y_true,y_pred,averaging='macro'):\n",
    "    cm,labels=create_confusion_matrix(y_true,y_pred)\n",
    "    if averaging=='micro':\n",
    "        tp=sum(cm.diagonal())\n",
    "        fp=sum(cm)-tp\n",
    "        return tp/(tp+fp)\n",
    "    if averaging=='macro':\n",
    "        pre=0\n",
    "        for label in labels:\n",
    "            m=twoway_confusion_matrix(cm,label,labels)\n",
    "            pre=pre+(m[0,0]/(m[0,0]+m[1,0]))\n",
    "        return pre/len(labels)\n",
    "\n",
    "def accuracy(y_true,y_pred,averaging='macro'):\n",
    "    cm,labels=create_confusion_matrix(y_true,y_pred)\n",
    "    if averaging=='macro':\n",
    "        \n",
    "        tp=sum(cm.diagonal())\n",
    "        alls=sum(cm)\n",
    "        return tp/alls\n",
    "    if averaging=='micro':\n",
    "        acc=0\n",
    "        for i,label in enumerate(labels):\n",
    "            m=twoway_confusion_matrix(cm,label,labels)\n",
    "            acc=acc+(sum(m.diagonal())/sum(m))\n",
    "        return acc/len(labels)\n",
    "    \n",
    "def f1(y_true,y_pred,averaging='macro'):\n",
    "    prec=precision(y_true,y_pred,averaging=averaging)\n",
    "    rec=recall(y_true,y_pred,averaging=averaging)\n",
    "    return 2*prec*rec/(prec+rec)\n",
    "\n",
    "\n",
    "print(\"Mikro\")\n",
    "print(\"Odziv: \",recall_score(gy_test,dt2.predict(gX_test),average='micro'))\n",
    "#print(recall(gy_test,dt2.predict(gX_test),averaging='micro'))\n",
    "#print(\"Preciznost:\", precision_score(gy_test,dt2.predict(gX_test),average='micro'))\n",
    "print(precision(gy_test,dt2.predict(gX_test),averaging='micro'))\n",
    "print(\"Točnost: \", accuracy(gy_test,dt2.predict(gX_test),'micro'))\n",
    "print(\"F1: \",f1_score(gy_test,dt2.predict(gX_test),average='micro'))\n",
    "\n",
    "print(\"Makro\")\n",
    "print(\"Odziv: \",recall_score(gy_test,dt2.predict(gX_test),average='macro'))\n",
    "#print(recall(gy_test,dt2.predict(gX_test),averaging='macro'))\n",
    "print(\"Preciznost: \",precision_score(gy_test,dt2.predict(gX_test),average='macro'))\n",
    "#print(precision(gy_test,dt2.predict(gX_test),averaging='macro'))\n",
    "print(\"Točnost: \",accuracy_score(gy_test,dt2.predict(gX_test)))\n",
    "#print(f1(gy_test,dt2.predict(gX_test),'macro'))\n",
    "print(\"F1: \",f1_score(gy_test,dt2.predict(gX_test),average='macro'))"
   ]
  },
  {
   "cell_type": "code",
   "execution_count": null,
   "metadata": {
    "collapsed": true
   },
   "outputs": [],
   "source": []
  }
 ],
 "metadata": {
  "kernelspec": {
   "display_name": "Python 3",
   "language": "python",
   "name": "python3"
  },
  "language_info": {
   "codemirror_mode": {
    "name": "ipython",
    "version": 3
   },
   "file_extension": ".py",
   "mimetype": "text/x-python",
   "name": "python",
   "nbconvert_exporter": "python",
   "pygments_lexer": "ipython3",
   "version": "3.4.3"
  }
 },
 "nbformat": 4,
 "nbformat_minor": 0
}
